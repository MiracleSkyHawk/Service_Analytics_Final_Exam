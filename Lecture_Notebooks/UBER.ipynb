{
 "cells": [
  {
   "cell_type": "code",
   "execution_count": 5,
   "id": "8dbcf3d9",
   "metadata": {},
   "outputs": [
    {
     "data": {
      "text/plain": [
       "'C:\\\\Users\\\\Vahid\\\\OneDrive - University of Toronto\\\\MMA - 2022 -\\\\Jupyter files'"
      ]
     },
     "execution_count": 5,
     "metadata": {},
     "output_type": "execute_result"
    }
   ],
   "source": [
    "import pandas as pd\n",
    "from matplotlib import pyplot as plt\n",
    "import seaborn as sns\n",
    "import warnings\n",
    "from scipy.stats import t,ttest_ind,ks_2samp,shapiro,anderson \n",
    "from statsmodels.stats.weightstats import ztest\n",
    "import statsmodels.api as sm\n",
    "import statsmodels.formula.api as smf\n",
    "warnings.filterwarnings(\"ignore\")\n",
    "import os\n",
    "from scipy.stats import levene,bartlett,shapiro\n",
    "\n",
    "import scipy.stats as stats\n",
    "\n",
    "os.getcwd()"
   ]
  },
  {
   "cell_type": "markdown",
   "id": "75215bd8",
   "metadata": {},
   "source": [
    "# Reading file"
   ]
  },
  {
   "cell_type": "code",
   "execution_count": 6,
   "id": "bf51f8de",
   "metadata": {},
   "outputs": [],
   "source": [
    "#path = '/Users/Vahid/Library/CloudStorage/OneDrive-UniversityofToronto/MMA - 2022 -/Jupyter files/'\n",
    "path = \"C:/Users/Vahid/OneDrive - University of Toronto/MMA - 2022 -/Jupyter files/\"\n",
    "df_raw = pd.read_excel(path+'Data/UBER.xlsx', sheet_name ='Switchbacks' )"
   ]
  },
  {
   "cell_type": "code",
   "execution_count": 7,
   "id": "62497f6d",
   "metadata": {},
   "outputs": [
    {
     "data": {
      "text/html": [
       "<div>\n",
       "<style scoped>\n",
       "    .dataframe tbody tr th:only-of-type {\n",
       "        vertical-align: middle;\n",
       "    }\n",
       "\n",
       "    .dataframe tbody tr th {\n",
       "        vertical-align: top;\n",
       "    }\n",
       "\n",
       "    .dataframe thead th {\n",
       "        text-align: right;\n",
       "    }\n",
       "</style>\n",
       "<table border=\"1\" class=\"dataframe\">\n",
       "  <thead>\n",
       "    <tr style=\"text-align: right;\">\n",
       "      <th></th>\n",
       "      <th>city_id</th>\n",
       "      <th>period_start</th>\n",
       "      <th>wait_time</th>\n",
       "      <th>treat</th>\n",
       "      <th>commute</th>\n",
       "      <th>trips_pool</th>\n",
       "      <th>trips_express</th>\n",
       "      <th>rider_cancellations</th>\n",
       "      <th>total_driver_payout</th>\n",
       "      <th>total_matches</th>\n",
       "      <th>total_double_matches</th>\n",
       "    </tr>\n",
       "  </thead>\n",
       "  <tbody>\n",
       "    <tr>\n",
       "      <th>0</th>\n",
       "      <td>Boston</td>\n",
       "      <td>2018-02-19 07:00:00</td>\n",
       "      <td>2 mins</td>\n",
       "      <td>False</td>\n",
       "      <td>True</td>\n",
       "      <td>1415</td>\n",
       "      <td>3245</td>\n",
       "      <td>256</td>\n",
       "      <td>34458.411634</td>\n",
       "      <td>3372</td>\n",
       "      <td>1476</td>\n",
       "    </tr>\n",
       "    <tr>\n",
       "      <th>1</th>\n",
       "      <td>Boston</td>\n",
       "      <td>2018-02-19 09:40:00</td>\n",
       "      <td>5 mins</td>\n",
       "      <td>True</td>\n",
       "      <td>False</td>\n",
       "      <td>1461</td>\n",
       "      <td>2363</td>\n",
       "      <td>203</td>\n",
       "      <td>29764.349821</td>\n",
       "      <td>2288</td>\n",
       "      <td>1275</td>\n",
       "    </tr>\n",
       "    <tr>\n",
       "      <th>2</th>\n",
       "      <td>Boston</td>\n",
       "      <td>2018-02-19 12:20:00</td>\n",
       "      <td>2 mins</td>\n",
       "      <td>False</td>\n",
       "      <td>False</td>\n",
       "      <td>1362</td>\n",
       "      <td>2184</td>\n",
       "      <td>118</td>\n",
       "      <td>27437.367363</td>\n",
       "      <td>2283</td>\n",
       "      <td>962</td>\n",
       "    </tr>\n",
       "    <tr>\n",
       "      <th>3</th>\n",
       "      <td>Boston</td>\n",
       "      <td>2018-02-19 15:00:00</td>\n",
       "      <td>5 mins</td>\n",
       "      <td>True</td>\n",
       "      <td>True</td>\n",
       "      <td>1984</td>\n",
       "      <td>3584</td>\n",
       "      <td>355</td>\n",
       "      <td>44995.452993</td>\n",
       "      <td>4035</td>\n",
       "      <td>2021</td>\n",
       "    </tr>\n",
       "    <tr>\n",
       "      <th>4</th>\n",
       "      <td>Boston</td>\n",
       "      <td>2018-02-19 17:40:00</td>\n",
       "      <td>2 mins</td>\n",
       "      <td>False</td>\n",
       "      <td>False</td>\n",
       "      <td>1371</td>\n",
       "      <td>2580</td>\n",
       "      <td>181</td>\n",
       "      <td>27583.955295</td>\n",
       "      <td>2200</td>\n",
       "      <td>979</td>\n",
       "    </tr>\n",
       "  </tbody>\n",
       "</table>\n",
       "</div>"
      ],
      "text/plain": [
       "  city_id        period_start wait_time  treat  commute  trips_pool  \\\n",
       "0  Boston 2018-02-19 07:00:00    2 mins  False     True        1415   \n",
       "1  Boston 2018-02-19 09:40:00    5 mins   True    False        1461   \n",
       "2  Boston 2018-02-19 12:20:00    2 mins  False    False        1362   \n",
       "3  Boston 2018-02-19 15:00:00    5 mins   True     True        1984   \n",
       "4  Boston 2018-02-19 17:40:00    2 mins  False    False        1371   \n",
       "\n",
       "   trips_express  rider_cancellations  total_driver_payout  total_matches  \\\n",
       "0           3245                  256         34458.411634           3372   \n",
       "1           2363                  203         29764.349821           2288   \n",
       "2           2184                  118         27437.367363           2283   \n",
       "3           3584                  355         44995.452993           4035   \n",
       "4           2580                  181         27583.955295           2200   \n",
       "\n",
       "   total_double_matches  \n",
       "0                  1476  \n",
       "1                  1275  \n",
       "2                   962  \n",
       "3                  2021  \n",
       "4                   979  "
      ]
     },
     "execution_count": 7,
     "metadata": {},
     "output_type": "execute_result"
    }
   ],
   "source": [
    "df_raw.head()"
   ]
  },
  {
   "cell_type": "code",
   "execution_count": 13,
   "id": "7559de47",
   "metadata": {},
   "outputs": [
    {
     "data": {
      "text/plain": [
       "Index(['city_id', 'period_start', 'wait_time', 'treat', 'commute',\n",
       "       'trips_pool', 'trips_express', 'rider_cancellations',\n",
       "       'total_driver_payout', 'total_matches', 'total_double_matches',\n",
       "       'day_name', 'time'],\n",
       "      dtype='object')"
      ]
     },
     "execution_count": 13,
     "metadata": {},
     "output_type": "execute_result"
    }
   ],
   "source": [
    "df_raw.columns"
   ]
  },
  {
   "cell_type": "code",
   "execution_count": 8,
   "id": "36c94858",
   "metadata": {},
   "outputs": [],
   "source": [
    "df_raw['day_name'] = df_raw['period_start'].dt.day_name()"
   ]
  },
  {
   "cell_type": "code",
   "execution_count": 9,
   "id": "14364cf5",
   "metadata": {},
   "outputs": [
    {
     "data": {
      "text/html": [
       "<div>\n",
       "<style scoped>\n",
       "    .dataframe tbody tr th:only-of-type {\n",
       "        vertical-align: middle;\n",
       "    }\n",
       "\n",
       "    .dataframe tbody tr th {\n",
       "        vertical-align: top;\n",
       "    }\n",
       "\n",
       "    .dataframe thead th {\n",
       "        text-align: right;\n",
       "    }\n",
       "</style>\n",
       "<table border=\"1\" class=\"dataframe\">\n",
       "  <thead>\n",
       "    <tr style=\"text-align: right;\">\n",
       "      <th></th>\n",
       "      <th>day_name</th>\n",
       "      <th>wait_time</th>\n",
       "      <th>num_observation</th>\n",
       "    </tr>\n",
       "  </thead>\n",
       "  <tbody>\n",
       "    <tr>\n",
       "      <th>0</th>\n",
       "      <td>Friday</td>\n",
       "      <td>2 mins</td>\n",
       "      <td>9</td>\n",
       "    </tr>\n",
       "    <tr>\n",
       "      <th>1</th>\n",
       "      <td>Friday</td>\n",
       "      <td>5 mins</td>\n",
       "      <td>9</td>\n",
       "    </tr>\n",
       "    <tr>\n",
       "      <th>2</th>\n",
       "      <td>Monday</td>\n",
       "      <td>2 mins</td>\n",
       "      <td>9</td>\n",
       "    </tr>\n",
       "    <tr>\n",
       "      <th>3</th>\n",
       "      <td>Monday</td>\n",
       "      <td>5 mins</td>\n",
       "      <td>9</td>\n",
       "    </tr>\n",
       "    <tr>\n",
       "      <th>4</th>\n",
       "      <td>Saturday</td>\n",
       "      <td>2 mins</td>\n",
       "      <td>9</td>\n",
       "    </tr>\n",
       "    <tr>\n",
       "      <th>5</th>\n",
       "      <td>Saturday</td>\n",
       "      <td>5 mins</td>\n",
       "      <td>9</td>\n",
       "    </tr>\n",
       "    <tr>\n",
       "      <th>6</th>\n",
       "      <td>Sunday</td>\n",
       "      <td>2 mins</td>\n",
       "      <td>9</td>\n",
       "    </tr>\n",
       "    <tr>\n",
       "      <th>7</th>\n",
       "      <td>Sunday</td>\n",
       "      <td>5 mins</td>\n",
       "      <td>9</td>\n",
       "    </tr>\n",
       "    <tr>\n",
       "      <th>8</th>\n",
       "      <td>Thursday</td>\n",
       "      <td>2 mins</td>\n",
       "      <td>9</td>\n",
       "    </tr>\n",
       "    <tr>\n",
       "      <th>9</th>\n",
       "      <td>Thursday</td>\n",
       "      <td>5 mins</td>\n",
       "      <td>9</td>\n",
       "    </tr>\n",
       "    <tr>\n",
       "      <th>10</th>\n",
       "      <td>Tuesday</td>\n",
       "      <td>2 mins</td>\n",
       "      <td>9</td>\n",
       "    </tr>\n",
       "    <tr>\n",
       "      <th>11</th>\n",
       "      <td>Tuesday</td>\n",
       "      <td>5 mins</td>\n",
       "      <td>9</td>\n",
       "    </tr>\n",
       "    <tr>\n",
       "      <th>12</th>\n",
       "      <td>Wednesday</td>\n",
       "      <td>2 mins</td>\n",
       "      <td>9</td>\n",
       "    </tr>\n",
       "    <tr>\n",
       "      <th>13</th>\n",
       "      <td>Wednesday</td>\n",
       "      <td>5 mins</td>\n",
       "      <td>9</td>\n",
       "    </tr>\n",
       "  </tbody>\n",
       "</table>\n",
       "</div>"
      ],
      "text/plain": [
       "     day_name wait_time  num_observation\n",
       "0      Friday    2 mins                9\n",
       "1      Friday    5 mins                9\n",
       "2      Monday    2 mins                9\n",
       "3      Monday    5 mins                9\n",
       "4    Saturday    2 mins                9\n",
       "5    Saturday    5 mins                9\n",
       "6      Sunday    2 mins                9\n",
       "7      Sunday    5 mins                9\n",
       "8    Thursday    2 mins                9\n",
       "9    Thursday    5 mins                9\n",
       "10    Tuesday    2 mins                9\n",
       "11    Tuesday    5 mins                9\n",
       "12  Wednesday    2 mins                9\n",
       "13  Wednesday    5 mins                9"
      ]
     },
     "execution_count": 9,
     "metadata": {},
     "output_type": "execute_result"
    }
   ],
   "source": [
    "df_raw.groupby(['day_name','wait_time'])['treat'].count().reset_index().rename(columns={'treat':'num_observation'}).sort_values(by='day_name')"
   ]
  },
  {
   "cell_type": "code",
   "execution_count": 10,
   "id": "44db4cd5",
   "metadata": {},
   "outputs": [],
   "source": [
    "df_raw['time'] = df_raw['period_start'].apply(lambda x: x.time())"
   ]
  },
  {
   "cell_type": "code",
   "execution_count": 12,
   "id": "8d58f060",
   "metadata": {},
   "outputs": [
    {
     "data": {
      "text/html": [
       "<div>\n",
       "<style scoped>\n",
       "    .dataframe tbody tr th:only-of-type {\n",
       "        vertical-align: middle;\n",
       "    }\n",
       "\n",
       "    .dataframe tbody tr th {\n",
       "        vertical-align: top;\n",
       "    }\n",
       "\n",
       "    .dataframe thead tr th {\n",
       "        text-align: left;\n",
       "    }\n",
       "\n",
       "    .dataframe thead tr:last-of-type th {\n",
       "        text-align: right;\n",
       "    }\n",
       "</style>\n",
       "<table border=\"1\" class=\"dataframe\">\n",
       "  <thead>\n",
       "    <tr>\n",
       "      <th>time</th>\n",
       "      <th colspan=\"2\" halign=\"left\">01:40:00</th>\n",
       "      <th colspan=\"2\" halign=\"left\">04:20:00</th>\n",
       "      <th colspan=\"2\" halign=\"left\">07:00:00</th>\n",
       "      <th colspan=\"2\" halign=\"left\">09:40:00</th>\n",
       "      <th colspan=\"2\" halign=\"left\">12:20:00</th>\n",
       "      <th colspan=\"2\" halign=\"left\">15:00:00</th>\n",
       "      <th colspan=\"2\" halign=\"left\">17:40:00</th>\n",
       "      <th colspan=\"2\" halign=\"left\">20:20:00</th>\n",
       "      <th colspan=\"2\" halign=\"left\">23:00:00</th>\n",
       "    </tr>\n",
       "    <tr>\n",
       "      <th>wait_time</th>\n",
       "      <th>2 mins</th>\n",
       "      <th>5 mins</th>\n",
       "      <th>2 mins</th>\n",
       "      <th>5 mins</th>\n",
       "      <th>2 mins</th>\n",
       "      <th>5 mins</th>\n",
       "      <th>2 mins</th>\n",
       "      <th>5 mins</th>\n",
       "      <th>2 mins</th>\n",
       "      <th>5 mins</th>\n",
       "      <th>2 mins</th>\n",
       "      <th>5 mins</th>\n",
       "      <th>2 mins</th>\n",
       "      <th>5 mins</th>\n",
       "      <th>2 mins</th>\n",
       "      <th>5 mins</th>\n",
       "      <th>2 mins</th>\n",
       "      <th>5 mins</th>\n",
       "    </tr>\n",
       "    <tr>\n",
       "      <th>day_name</th>\n",
       "      <th></th>\n",
       "      <th></th>\n",
       "      <th></th>\n",
       "      <th></th>\n",
       "      <th></th>\n",
       "      <th></th>\n",
       "      <th></th>\n",
       "      <th></th>\n",
       "      <th></th>\n",
       "      <th></th>\n",
       "      <th></th>\n",
       "      <th></th>\n",
       "      <th></th>\n",
       "      <th></th>\n",
       "      <th></th>\n",
       "      <th></th>\n",
       "      <th></th>\n",
       "      <th></th>\n",
       "    </tr>\n",
       "  </thead>\n",
       "  <tbody>\n",
       "    <tr>\n",
       "      <th>Friday</th>\n",
       "      <td>1</td>\n",
       "      <td>1</td>\n",
       "      <td>1</td>\n",
       "      <td>1</td>\n",
       "      <td>1</td>\n",
       "      <td>1</td>\n",
       "      <td>1</td>\n",
       "      <td>1</td>\n",
       "      <td>1</td>\n",
       "      <td>1</td>\n",
       "      <td>1</td>\n",
       "      <td>1</td>\n",
       "      <td>1</td>\n",
       "      <td>1</td>\n",
       "      <td>1</td>\n",
       "      <td>1</td>\n",
       "      <td>1</td>\n",
       "      <td>1</td>\n",
       "    </tr>\n",
       "    <tr>\n",
       "      <th>Monday</th>\n",
       "      <td>1</td>\n",
       "      <td>1</td>\n",
       "      <td>1</td>\n",
       "      <td>1</td>\n",
       "      <td>1</td>\n",
       "      <td>1</td>\n",
       "      <td>1</td>\n",
       "      <td>1</td>\n",
       "      <td>1</td>\n",
       "      <td>1</td>\n",
       "      <td>1</td>\n",
       "      <td>1</td>\n",
       "      <td>1</td>\n",
       "      <td>1</td>\n",
       "      <td>1</td>\n",
       "      <td>1</td>\n",
       "      <td>1</td>\n",
       "      <td>1</td>\n",
       "    </tr>\n",
       "    <tr>\n",
       "      <th>Saturday</th>\n",
       "      <td>1</td>\n",
       "      <td>1</td>\n",
       "      <td>1</td>\n",
       "      <td>1</td>\n",
       "      <td>1</td>\n",
       "      <td>1</td>\n",
       "      <td>1</td>\n",
       "      <td>1</td>\n",
       "      <td>1</td>\n",
       "      <td>1</td>\n",
       "      <td>1</td>\n",
       "      <td>1</td>\n",
       "      <td>1</td>\n",
       "      <td>1</td>\n",
       "      <td>1</td>\n",
       "      <td>1</td>\n",
       "      <td>1</td>\n",
       "      <td>1</td>\n",
       "    </tr>\n",
       "    <tr>\n",
       "      <th>Sunday</th>\n",
       "      <td>1</td>\n",
       "      <td>1</td>\n",
       "      <td>1</td>\n",
       "      <td>1</td>\n",
       "      <td>1</td>\n",
       "      <td>1</td>\n",
       "      <td>1</td>\n",
       "      <td>1</td>\n",
       "      <td>1</td>\n",
       "      <td>1</td>\n",
       "      <td>1</td>\n",
       "      <td>1</td>\n",
       "      <td>1</td>\n",
       "      <td>1</td>\n",
       "      <td>1</td>\n",
       "      <td>1</td>\n",
       "      <td>1</td>\n",
       "      <td>1</td>\n",
       "    </tr>\n",
       "    <tr>\n",
       "      <th>Thursday</th>\n",
       "      <td>1</td>\n",
       "      <td>1</td>\n",
       "      <td>1</td>\n",
       "      <td>1</td>\n",
       "      <td>1</td>\n",
       "      <td>1</td>\n",
       "      <td>1</td>\n",
       "      <td>1</td>\n",
       "      <td>1</td>\n",
       "      <td>1</td>\n",
       "      <td>1</td>\n",
       "      <td>1</td>\n",
       "      <td>1</td>\n",
       "      <td>1</td>\n",
       "      <td>1</td>\n",
       "      <td>1</td>\n",
       "      <td>1</td>\n",
       "      <td>1</td>\n",
       "    </tr>\n",
       "    <tr>\n",
       "      <th>Tuesday</th>\n",
       "      <td>1</td>\n",
       "      <td>1</td>\n",
       "      <td>1</td>\n",
       "      <td>1</td>\n",
       "      <td>1</td>\n",
       "      <td>1</td>\n",
       "      <td>1</td>\n",
       "      <td>1</td>\n",
       "      <td>1</td>\n",
       "      <td>1</td>\n",
       "      <td>1</td>\n",
       "      <td>1</td>\n",
       "      <td>1</td>\n",
       "      <td>1</td>\n",
       "      <td>1</td>\n",
       "      <td>1</td>\n",
       "      <td>1</td>\n",
       "      <td>1</td>\n",
       "    </tr>\n",
       "    <tr>\n",
       "      <th>Wednesday</th>\n",
       "      <td>1</td>\n",
       "      <td>1</td>\n",
       "      <td>1</td>\n",
       "      <td>1</td>\n",
       "      <td>1</td>\n",
       "      <td>1</td>\n",
       "      <td>1</td>\n",
       "      <td>1</td>\n",
       "      <td>1</td>\n",
       "      <td>1</td>\n",
       "      <td>1</td>\n",
       "      <td>1</td>\n",
       "      <td>1</td>\n",
       "      <td>1</td>\n",
       "      <td>1</td>\n",
       "      <td>1</td>\n",
       "      <td>1</td>\n",
       "      <td>1</td>\n",
       "    </tr>\n",
       "  </tbody>\n",
       "</table>\n",
       "</div>"
      ],
      "text/plain": [
       "time      01:40:00        04:20:00        07:00:00        09:40:00         \\\n",
       "wait_time   2 mins 5 mins   2 mins 5 mins   2 mins 5 mins   2 mins 5 mins   \n",
       "day_name                                                                    \n",
       "Friday           1      1        1      1        1      1        1      1   \n",
       "Monday           1      1        1      1        1      1        1      1   \n",
       "Saturday         1      1        1      1        1      1        1      1   \n",
       "Sunday           1      1        1      1        1      1        1      1   \n",
       "Thursday         1      1        1      1        1      1        1      1   \n",
       "Tuesday          1      1        1      1        1      1        1      1   \n",
       "Wednesday        1      1        1      1        1      1        1      1   \n",
       "\n",
       "time      12:20:00        15:00:00        17:40:00        20:20:00         \\\n",
       "wait_time   2 mins 5 mins   2 mins 5 mins   2 mins 5 mins   2 mins 5 mins   \n",
       "day_name                                                                    \n",
       "Friday           1      1        1      1        1      1        1      1   \n",
       "Monday           1      1        1      1        1      1        1      1   \n",
       "Saturday         1      1        1      1        1      1        1      1   \n",
       "Sunday           1      1        1      1        1      1        1      1   \n",
       "Thursday         1      1        1      1        1      1        1      1   \n",
       "Tuesday          1      1        1      1        1      1        1      1   \n",
       "Wednesday        1      1        1      1        1      1        1      1   \n",
       "\n",
       "time      23:00:00         \n",
       "wait_time   2 mins 5 mins  \n",
       "day_name                   \n",
       "Friday           1      1  \n",
       "Monday           1      1  \n",
       "Saturday         1      1  \n",
       "Sunday           1      1  \n",
       "Thursday         1      1  \n",
       "Tuesday          1      1  \n",
       "Wednesday        1      1  "
      ]
     },
     "execution_count": 12,
     "metadata": {},
     "output_type": "execute_result"
    }
   ],
   "source": [
    "summary = df_raw.groupby(['day_name','time','wait_time'])['wait_time'].count()#.reset_index().rename(columns={'treat':'num_observation'}).sort_values(by='day_name')\n",
    "summary.unstack([\"time\",'wait_time'])"
   ]
  },
  {
   "cell_type": "markdown",
   "id": "0fda5d05",
   "metadata": {},
   "source": [
    "# Deriving new features "
   ]
  },
  {
   "cell_type": "code",
   "execution_count": 14,
   "id": "b3b54b5a",
   "metadata": {},
   "outputs": [],
   "source": [
    "df_raw['total_ride'] = df_raw['trips_express'] + df_raw['trips_pool']\n",
    "df_raw['cost_per_ride'] = df_raw['total_driver_payout']/df_raw['total_ride']\n",
    "df_raw['double_matches_rate'] = df_raw['total_double_matches']/df_raw['total_ride']\n",
    "df_raw['match_rate'] = df_raw['total_matches']/df_raw['total_ride']"
   ]
  },
  {
   "cell_type": "markdown",
   "id": "415cad2b",
   "metadata": {},
   "source": [
    "# Summary Table"
   ]
  },
  {
   "cell_type": "code",
   "execution_count": 15,
   "id": "19cb555a",
   "metadata": {},
   "outputs": [
    {
     "data": {
      "text/html": [
       "<div>\n",
       "<style scoped>\n",
       "    .dataframe tbody tr th:only-of-type {\n",
       "        vertical-align: middle;\n",
       "    }\n",
       "\n",
       "    .dataframe tbody tr th {\n",
       "        vertical-align: top;\n",
       "    }\n",
       "\n",
       "    .dataframe thead th {\n",
       "        text-align: right;\n",
       "    }\n",
       "</style>\n",
       "<table border=\"1\" class=\"dataframe\">\n",
       "  <thead>\n",
       "    <tr style=\"text-align: right;\">\n",
       "      <th>wait_time</th>\n",
       "      <th>2 mins</th>\n",
       "      <th>5 mins</th>\n",
       "      <th>diff (5mins - 2mins)</th>\n",
       "    </tr>\n",
       "  </thead>\n",
       "  <tbody>\n",
       "    <tr>\n",
       "      <th>rider_cancellations</th>\n",
       "      <td>165.349206</td>\n",
       "      <td>190.126984</td>\n",
       "      <td>24.777778</td>\n",
       "    </tr>\n",
       "    <tr>\n",
       "      <th>trips_pool</th>\n",
       "      <td>1355.317460</td>\n",
       "      <td>1460.698413</td>\n",
       "      <td>105.380952</td>\n",
       "    </tr>\n",
       "    <tr>\n",
       "      <th>trips_express</th>\n",
       "      <td>2611.666667</td>\n",
       "      <td>2419.380952</td>\n",
       "      <td>-192.285714</td>\n",
       "    </tr>\n",
       "    <tr>\n",
       "      <th>total_ride</th>\n",
       "      <td>3966.984127</td>\n",
       "      <td>3880.079365</td>\n",
       "      <td>-86.904762</td>\n",
       "    </tr>\n",
       "    <tr>\n",
       "      <th>cost_per_ride</th>\n",
       "      <td>7.364866</td>\n",
       "      <td>6.987458</td>\n",
       "      <td>-0.377409</td>\n",
       "    </tr>\n",
       "    <tr>\n",
       "      <th>match_rate</th>\n",
       "      <td>0.659115</td>\n",
       "      <td>0.624274</td>\n",
       "      <td>-0.034842</td>\n",
       "    </tr>\n",
       "    <tr>\n",
       "      <th>double_matches_rate</th>\n",
       "      <td>0.321761</td>\n",
       "      <td>0.348986</td>\n",
       "      <td>0.027224</td>\n",
       "    </tr>\n",
       "  </tbody>\n",
       "</table>\n",
       "</div>"
      ],
      "text/plain": [
       "wait_time                 2 mins       5 mins  diff (5mins - 2mins)\n",
       "rider_cancellations   165.349206   190.126984             24.777778\n",
       "trips_pool           1355.317460  1460.698413            105.380952\n",
       "trips_express        2611.666667  2419.380952           -192.285714\n",
       "total_ride           3966.984127  3880.079365            -86.904762\n",
       "cost_per_ride           7.364866     6.987458             -0.377409\n",
       "match_rate              0.659115     0.624274             -0.034842\n",
       "double_matches_rate     0.321761     0.348986              0.027224"
      ]
     },
     "execution_count": 15,
     "metadata": {},
     "output_type": "execute_result"
    }
   ],
   "source": [
    "summary = df_raw.groupby(['wait_time'])['rider_cancellations','trips_pool','trips_express','total_ride','cost_per_ride','match_rate','double_matches_rate'].agg('mean').T\n",
    "summary['diff (5mins - 2mins)'] = summary['5 mins'] - summary['2 mins']\n",
    "summary"
   ]
  },
  {
   "cell_type": "markdown",
   "id": "79d18906",
   "metadata": {},
   "source": [
    "# Histograms"
   ]
  },
  {
   "cell_type": "markdown",
   "id": "bab2bbab",
   "metadata": {},
   "source": [
    "###  Pool Trips"
   ]
  },
  {
   "cell_type": "code",
   "execution_count": 16,
   "id": "c99b8fcc",
   "metadata": {},
   "outputs": [
    {
     "data": {
      "text/plain": [
       "<seaborn.axisgrid.FacetGrid at 0x1fbb1972fa0>"
      ]
     },
     "execution_count": 16,
     "metadata": {},
     "output_type": "execute_result"
    },
    {
     "data": {
      "image/png": "[encoded data removed]",
      "text/plain": [
       "<Figure size 611.975x360 with 1 Axes>"
      ]
     },
     "metadata": {},
     "output_type": "display_data"
    }
   ],
   "source": [
    "sns.set(rc = {'figure.figsize':(20,10)})\n",
    "sns.set(font_scale = 1)\n",
    "\n",
    "g = sns.displot(data=df_raw, x='trips_pool', hue='wait_time', kind='kde', fill=True, palette=sns.color_palette('bright')[:2], height=5, aspect=1.5)\n",
    "g.figure.subplots_adjust(top=0.9);\n",
    "g._legend.set_title('Wait Time')\n",
    "g.set(xlabel='Number of Pool Trips', ylabel='Density')"
   ]
  },
  {
   "cell_type": "markdown",
   "id": "c2c27bc3",
   "metadata": {},
   "source": [
    "### Express Trips"
   ]
  },
  {
   "cell_type": "code",
   "execution_count": 17,
   "id": "e00dcb9a",
   "metadata": {},
   "outputs": [
    {
     "data": {
      "text/plain": [
       "<seaborn.axisgrid.FacetGrid at 0x1fbb356c3d0>"
      ]
     },
     "execution_count": 17,
     "metadata": {},
     "output_type": "execute_result"
    },
    {
     "data": {
      "image/png": "[encoded data removed]",
      "text/plain": [
       "<Figure size 611.975x360 with 1 Axes>"
      ]
     },
     "metadata": {},
     "output_type": "display_data"
    }
   ],
   "source": [
    "sns.set(rc = {'figure.figsize':(20,10)})\n",
    "sns.set(font_scale = 1)\n",
    "\n",
    "g = sns.displot(data=df_raw, x='trips_express', hue='wait_time', kind='kde', fill=True, palette=sns.color_palette('bright')[:2], height=5, aspect=1.5)\n",
    "g.figure.subplots_adjust(top=0.9);\n",
    "g._legend.set_title('Wait Time')\n",
    "g.set(xlabel='Number of Express Pool Trips', ylabel='Density')"
   ]
  },
  {
   "cell_type": "markdown",
   "id": "37a56177",
   "metadata": {},
   "source": [
    "### Total Rides"
   ]
  },
  {
   "cell_type": "code",
   "execution_count": 18,
   "id": "e6e7625a",
   "metadata": {},
   "outputs": [
    {
     "data": {
      "text/plain": [
       "<seaborn.axisgrid.FacetGrid at 0x1fbb3d3de20>"
      ]
     },
     "execution_count": 18,
     "metadata": {},
     "output_type": "execute_result"
    },
    {
     "data": {
      "image/png": "[encoded data removed]",
      "text/plain": [
       "<Figure size 611.975x360 with 1 Axes>"
      ]
     },
     "metadata": {},
     "output_type": "display_data"
    }
   ],
   "source": [
    "sns.set(rc = {'figure.figsize':(20,10)})\n",
    "sns.set(font_scale = 1)\n",
    "\n",
    "g = sns.displot(data=df_raw, x='total_ride', hue='wait_time', kind='kde', fill=True, palette=sns.color_palette('bright')[:2], height=5, aspect=1.5)\n",
    "g.figure.subplots_adjust(top=0.9);\n",
    "g._legend.set_title('Wait Time')\n",
    "g.set(xlabel='Number of Total Trips', ylabel='Density')"
   ]
  },
  {
   "cell_type": "markdown",
   "id": "6bf39a3b",
   "metadata": {},
   "source": [
    "### Ride Cancellation"
   ]
  },
  {
   "cell_type": "code",
   "execution_count": 19,
   "id": "9d469d6a",
   "metadata": {},
   "outputs": [
    {
     "data": {
      "text/plain": [
       "<seaborn.axisgrid.FacetGrid at 0x1fbb3c879a0>"
      ]
     },
     "execution_count": 19,
     "metadata": {},
     "output_type": "execute_result"
    },
    {
     "data": {
      "image/png": "[encoded data removed]",
      "text/plain": [
       "<Figure size 611.975x360 with 1 Axes>"
      ]
     },
     "metadata": {},
     "output_type": "display_data"
    }
   ],
   "source": [
    "sns.set(rc = {'figure.figsize':(15,8)})\n",
    "sns.set(font_scale = 1)\n",
    "\n",
    "g = sns.displot(data=df_raw, x='rider_cancellations', hue='wait_time', kind='kde', fill=True, palette=sns.color_palette('bright')[:2], height=5, aspect=1.5)\n",
    "g.figure.subplots_adjust(top=0.9);\n",
    "g._legend.set_title('Wait Time')\n",
    "g.set(xlabel='Total Number of Cancelled Trips', ylabel='Density')"
   ]
  },
  {
   "cell_type": "markdown",
   "id": "304593ad",
   "metadata": {},
   "source": [
    "# Efficiency Metrics"
   ]
  },
  {
   "cell_type": "markdown",
   "id": "c61837ed",
   "metadata": {},
   "source": [
    "### Cost per ride"
   ]
  },
  {
   "cell_type": "code",
   "execution_count": 20,
   "id": "065d6688",
   "metadata": {},
   "outputs": [
    {
     "data": {
      "text/plain": [
       "<seaborn.axisgrid.FacetGrid at 0x1fbb4e422b0>"
      ]
     },
     "execution_count": 20,
     "metadata": {},
     "output_type": "execute_result"
    },
    {
     "data": {
      "image/png": "[encoded data removed]",
      "text/plain": [
       "<Figure size 611.975x360 with 1 Axes>"
      ]
     },
     "metadata": {},
     "output_type": "display_data"
    }
   ],
   "source": [
    "sns.set(rc = {'figure.figsize':(15,8)})\n",
    "sns.set(font_scale = 1)\n",
    "\n",
    "g = sns.displot(data=df_raw, x='cost_per_ride', hue='wait_time', kind='kde', fill=True, palette=sns.color_palette('bright')[:2], height=5, aspect=1.5)\n",
    "g.figure.subplots_adjust(top=0.9);\n",
    "\n",
    "g._legend.set_title('Wait Time')\n",
    "g.set(xlabel='Driver Payout Per Trip', ylabel='Density')"
   ]
  },
  {
   "cell_type": "markdown",
   "id": "bb97231f",
   "metadata": {},
   "source": [
    "### Match Rate"
   ]
  },
  {
   "cell_type": "code",
   "execution_count": 21,
   "id": "a6c9b65c",
   "metadata": {},
   "outputs": [
    {
     "data": {
      "text/plain": [
       "<seaborn.axisgrid.FacetGrid at 0x1fbb4db3a30>"
      ]
     },
     "execution_count": 21,
     "metadata": {},
     "output_type": "execute_result"
    },
    {
     "data": {
      "image/png": "[encoded data removed]",
      "text/plain": [
       "<Figure size 611.975x360 with 1 Axes>"
      ]
     },
     "metadata": {},
     "output_type": "display_data"
    }
   ],
   "source": [
    "sns.set(rc = {'figure.figsize':(15,8)})\n",
    "sns.set(font_scale = 1)\n",
    "\n",
    "g = sns.displot(data=df_raw, x='match_rate', hue='wait_time', kind='kde', fill=True, palette=sns.color_palette('bright')[:2], height=5, aspect=1.5)\n",
    "g.figure.subplots_adjust(top=0.9);\n",
    "\n",
    "g._legend.set_title('Wait Time')\n",
    "g.set(xlabel='Match Rates', ylabel='Density')"
   ]
  },
  {
   "cell_type": "markdown",
   "id": "942db73c",
   "metadata": {},
   "source": [
    "### Double Match Rate"
   ]
  },
  {
   "cell_type": "code",
   "execution_count": 22,
   "id": "0fb3a00c",
   "metadata": {},
   "outputs": [
    {
     "data": {
      "text/plain": [
       "<seaborn.axisgrid.FacetGrid at 0x1fbb4ea9100>"
      ]
     },
     "execution_count": 22,
     "metadata": {},
     "output_type": "execute_result"
    },
    {
     "data": {
      "image/png": "[encoded data removed]",
      "text/plain": [
       "<Figure size 611.975x360 with 1 Axes>"
      ]
     },
     "metadata": {},
     "output_type": "display_data"
    }
   ],
   "source": [
    "sns.set(rc = {'figure.figsize':(15,8)})\n",
    "sns.set(font_scale = 1)\n",
    "\n",
    "g = sns.displot(data=df_raw, x='double_matches_rate', hue='wait_time', kind='kde', fill=True, palette=sns.color_palette('bright')[:2], height=5, aspect=1.5)\n",
    "g.figure.subplots_adjust(top=0.9);\n",
    "g._legend.set_title('Wait Time')\n",
    "g.set(xlabel='Double Match Rates', ylabel='Density')"
   ]
  },
  {
   "cell_type": "markdown",
   "id": "dcd9b9ec",
   "metadata": {},
   "source": [
    "## Total Trips Ride "
   ]
  },
  {
   "cell_type": "markdown",
   "id": "cc0fb62f",
   "metadata": {},
   "source": [
    "### Non-Parametric Test: Mann-Whitney U test"
   ]
  },
  {
   "cell_type": "code",
   "execution_count": 23,
   "id": "9b5896da",
   "metadata": {},
   "outputs": [
    {
     "name": "stdout",
     "output_type": "stream",
     "text": [
      "Statistics = 2122.000, P-value=0.504\n"
     ]
    }
   ],
   "source": [
    "statistic,p_value = stats.mannwhitneyu(df_raw[df_raw['treat']==False]['total_ride'],df_raw[df_raw['treat']==True]['total_ride'], alternative='two-sided')\n",
    "print('Statistics = %.3f, P-value=%.3f' %(statistic,p_value))\n"
   ]
  },
  {
   "cell_type": "markdown",
   "id": "3e2c51f9",
   "metadata": {},
   "source": [
    "## Equal Variance test "
   ]
  },
  {
   "cell_type": "code",
   "execution_count": 24,
   "id": "173ae12b",
   "metadata": {},
   "outputs": [
    {
     "name": "stdout",
     "output_type": "stream",
     "text": [
      "Statistics = 0.126, P-value=0.723\n"
     ]
    }
   ],
   "source": [
    "statistic,p_value = levene(df_raw[df_raw['treat']==False]['total_ride'],df_raw[df_raw['treat']==True]['total_ride'])\n",
    "print('Statistics = %.3f, P-value=%.3f' %(statistic,p_value))"
   ]
  },
  {
   "cell_type": "code",
   "execution_count": 25,
   "id": "879bdd77",
   "metadata": {},
   "outputs": [
    {
     "name": "stdout",
     "output_type": "stream",
     "text": [
      "Statistics = 0.721, P-value=0.397\n"
     ]
    }
   ],
   "source": [
    "statistic,p_value = stats.f_oneway(df_raw[df_raw['treat']==False]['total_ride'],df_raw[df_raw['treat']==True]['total_ride'])\n",
    "print('Statistics = %.3f, P-value=%.3f' %(statistic,p_value))"
   ]
  },
  {
   "cell_type": "markdown",
   "id": "ccb9ea5e",
   "metadata": {},
   "source": [
    "##  T-test"
   ]
  },
  {
   "cell_type": "code",
   "execution_count": 13,
   "id": "8b8b1351",
   "metadata": {},
   "outputs": [
    {
     "name": "stdout",
     "output_type": "stream",
     "text": [
      "Statistics = 0.849, P-value=0.397\n"
     ]
    }
   ],
   "source": [
    "statistic,p_value =  ttest_ind(df_raw[df_raw['treat']==False]['total_ride'],df_raw[df_raw['treat']==True]['total_ride'], alternative='two-sided')\n",
    "print('Statistics = %.3f, P-value=%.3f' %(statistic,p_value))"
   ]
  },
  {
   "cell_type": "markdown",
   "id": "140aeb6c",
   "metadata": {},
   "source": [
    "## Express Trips"
   ]
  },
  {
   "cell_type": "markdown",
   "id": "b0f30ec2",
   "metadata": {},
   "source": [
    "#### Parametric t - test"
   ]
  },
  {
   "cell_type": "code",
   "execution_count": 60,
   "id": "ead5434a",
   "metadata": {},
   "outputs": [
    {
     "name": "stdout",
     "output_type": "stream",
     "text": [
      "Statistics = 2.202, P-value=0.030\n"
     ]
    }
   ],
   "source": [
    "statistic,p_value = ttest_ind(df_raw[df_raw['treat']==False]['trips_express'], df_raw[df_raw['treat']==True]['trips_express'], alternative='two-sided')\n",
    "\n",
    "print('Statistics = %.3f, P-value=%.3f' %(statistic,p_value))\n"
   ]
  },
  {
   "cell_type": "markdown",
   "id": "16d6ac4d",
   "metadata": {},
   "source": [
    "#### Non-Parametric Mann Whitney U - test"
   ]
  },
  {
   "cell_type": "code",
   "execution_count": 61,
   "id": "e6bdcdbd",
   "metadata": {},
   "outputs": [
    {
     "name": "stdout",
     "output_type": "stream",
     "text": [
      "Statistics = 2491.500, P-value=0.013\n"
     ]
    }
   ],
   "source": [
    "statistic,p_value = stats.mannwhitneyu(df_raw[df_raw['treat']==False]['trips_express'], df_raw[df_raw['treat']==True]['trips_express'], alternative='two-sided')\n",
    "print('Statistics = %.3f, P-value=%.3f' %(statistic,p_value))"
   ]
  },
  {
   "cell_type": "markdown",
   "id": "a3dec93a",
   "metadata": {},
   "source": [
    "# Pool Trips"
   ]
  },
  {
   "cell_type": "markdown",
   "id": "f81fe96d",
   "metadata": {},
   "source": [
    "#### Parametric t - test"
   ]
  },
  {
   "cell_type": "code",
   "execution_count": 62,
   "id": "6d357559",
   "metadata": {},
   "outputs": [
    {
     "name": "stdout",
     "output_type": "stream",
     "text": [
      "Statistics = -2.333, P-value=0.021\n"
     ]
    }
   ],
   "source": [
    "statistic,p_value = ttest_ind(df_raw[df_raw['treat']==False]['trips_pool'], df_raw[df_raw['treat']==True]['trips_pool'], alternative='two-sided')\n",
    "print('Statistics = %.3f, P-value=%.3f' %(statistic,p_value))    "
   ]
  },
  {
   "cell_type": "markdown",
   "id": "cceb2a46",
   "metadata": {},
   "source": [
    "#### Non-Parametric Mann Whitney U - test"
   ]
  },
  {
   "cell_type": "code",
   "execution_count": 63,
   "id": "ba993c4a",
   "metadata": {},
   "outputs": [
    {
     "name": "stdout",
     "output_type": "stream",
     "text": [
      "Statistics = 1491.500, P-value=0.016\n"
     ]
    }
   ],
   "source": [
    "statistic,p_value =  stats.mannwhitneyu(df_raw[df_raw['treat']==False]['trips_pool'], df_raw[df_raw['treat']==True]['trips_pool'], alternative='two-sided')\n",
    "print('Statistics = %.3f, P-value=%.3f' %(statistic,p_value)) "
   ]
  },
  {
   "cell_type": "markdown",
   "id": "eab6796e",
   "metadata": {},
   "source": [
    "## Ride Cancellation"
   ]
  },
  {
   "cell_type": "markdown",
   "id": "fb745580",
   "metadata": {},
   "source": [
    "#### Parametric t - test"
   ]
  },
  {
   "cell_type": "code",
   "execution_count": 64,
   "id": "63f54474",
   "metadata": {},
   "outputs": [
    {
     "name": "stdout",
     "output_type": "stream",
     "text": [
      "Statistics = -2.764, P-value=0.007\n"
     ]
    }
   ],
   "source": [
    "statistic,p_value =  ttest_ind(df_raw[df_raw['treat']==False]['rider_cancellations'], df_raw[df_raw['treat']==True]['rider_cancellations'], alternative='two-sided')\n",
    "print('Statistics = %.3f, P-value=%.3f' %(statistic,p_value))"
   ]
  },
  {
   "cell_type": "markdown",
   "id": "df529a51",
   "metadata": {},
   "source": [
    "#### Non-Parametric Mann Whitney U - test"
   ]
  },
  {
   "cell_type": "code",
   "execution_count": 65,
   "id": "4a8886a4",
   "metadata": {},
   "outputs": [
    {
     "name": "stdout",
     "output_type": "stream",
     "text": [
      "Statistics = 1367.000, P-value=0.003\n"
     ]
    }
   ],
   "source": [
    "statistic,p_value =  stats.mannwhitneyu(df_raw[df_raw['treat']==False]['rider_cancellations'], df_raw[df_raw['treat']==True]['rider_cancellations'], alternative='two-sided')\n",
    "print('Statistics = %.3f, P-value=%.3f' %(statistic,p_value))"
   ]
  },
  {
   "cell_type": "markdown",
   "id": "27c5c681",
   "metadata": {},
   "source": [
    "## Double Matches Rate"
   ]
  },
  {
   "cell_type": "markdown",
   "id": "786c8335",
   "metadata": {},
   "source": [
    "#### Parametric t - test"
   ]
  },
  {
   "cell_type": "code",
   "execution_count": 66,
   "id": "63b8f790",
   "metadata": {},
   "outputs": [
    {
     "name": "stdout",
     "output_type": "stream",
     "text": [
      "Statistics = -2.482, P-value=0.014\n"
     ]
    }
   ],
   "source": [
    "statistic,p_value =  ttest_ind(df_raw[df_raw['treat']==False]['double_matches_rate'], df_raw[df_raw['treat']==True]['double_matches_rate'], alternative='two-sided')\n",
    "print('Statistics = %.3f, P-value=%.3f' %(statistic,p_value))\n"
   ]
  },
  {
   "cell_type": "markdown",
   "id": "2c9a4bf4",
   "metadata": {},
   "source": [
    "#### Non-Parametric Mann Whitney U - test"
   ]
  },
  {
   "cell_type": "code",
   "execution_count": 67,
   "id": "ee576262",
   "metadata": {},
   "outputs": [
    {
     "name": "stdout",
     "output_type": "stream",
     "text": [
      "Statistics = 1533.000, P-value=0.028\n"
     ]
    }
   ],
   "source": [
    "statistic,p_value =  stats.mannwhitneyu(df_raw[df_raw['treat']==False]['double_matches_rate'], df_raw[df_raw['treat']==True]['double_matches_rate'], alternative='two-sided')\n",
    "print('Statistics = %.3f, P-value=%.3f' %(statistic,p_value))\n"
   ]
  },
  {
   "cell_type": "markdown",
   "id": "e0ec0f04",
   "metadata": {},
   "source": [
    "## Match Rate"
   ]
  },
  {
   "cell_type": "markdown",
   "id": "7f62a267",
   "metadata": {},
   "source": [
    "#### Parametric t - test"
   ]
  },
  {
   "cell_type": "code",
   "execution_count": 68,
   "id": "aa82426c",
   "metadata": {},
   "outputs": [
    {
     "name": "stdout",
     "output_type": "stream",
     "text": [
      "Statistics = 2.517, P-value=0.013\n"
     ]
    }
   ],
   "source": [
    "statistic,p_value =  ttest_ind(df_raw[df_raw['treat']==False]['match_rate'], df_raw[df_raw['treat']==True]['match_rate'], alternative='two-sided')\n",
    "print('Statistics = %.3f, P-value=%.3f' %(statistic,p_value))\n"
   ]
  },
  {
   "cell_type": "markdown",
   "id": "fbfbec39",
   "metadata": {},
   "source": [
    "#### Non-Parametric Mann Whitney U - test"
   ]
  },
  {
   "cell_type": "code",
   "execution_count": 69,
   "id": "54d63e4c",
   "metadata": {},
   "outputs": [
    {
     "name": "stdout",
     "output_type": "stream",
     "text": [
      "Statistics = 2480.000, P-value=0.016\n"
     ]
    }
   ],
   "source": [
    "statistic,p_value =  stats.mannwhitneyu(df_raw[df_raw['treat']==False]['match_rate'], df_raw[df_raw['treat']==True]['match_rate'], alternative='two-sided')\n",
    "print('Statistics = %.3f, P-value=%.3f' %(statistic,p_value))\n"
   ]
  },
  {
   "cell_type": "markdown",
   "id": "99a4ff8b",
   "metadata": {},
   "source": [
    "## Cost per Rider"
   ]
  },
  {
   "cell_type": "markdown",
   "id": "03c18c34",
   "metadata": {},
   "source": [
    "#### Parametric t - test"
   ]
  },
  {
   "cell_type": "code",
   "execution_count": 70,
   "id": "f4370464",
   "metadata": {},
   "outputs": [
    {
     "name": "stdout",
     "output_type": "stream",
     "text": [
      "Statistics = 3.462, P-value=0.001\n"
     ]
    }
   ],
   "source": [
    "statistic,p_value =  ttest_ind(df_raw[df_raw['treat']==False]['cost_per_ride'], df_raw[df_raw['treat']==True]['cost_per_ride'], alternative='two-sided')\n",
    "print('Statistics = %.3f, P-value=%.3f' %(statistic,p_value))"
   ]
  },
  {
   "cell_type": "markdown",
   "id": "4fb23524",
   "metadata": {},
   "source": [
    "#### Non-Parametric Mann Whitney U - test"
   ]
  },
  {
   "cell_type": "code",
   "execution_count": 71,
   "id": "15a9f47e",
   "metadata": {},
   "outputs": [
    {
     "name": "stdout",
     "output_type": "stream",
     "text": [
      "Statistics = 2666.000, P-value=0.001\n"
     ]
    }
   ],
   "source": [
    "statistic,p_value =  stats.mannwhitneyu(df_raw[df_raw['treat']==False]['cost_per_ride'], df_raw[df_raw['treat']==True]['cost_per_ride'], alternative='two-sided')\n",
    "print('Statistics = %.3f, P-value=%.3f' %(statistic,p_value))"
   ]
  },
  {
   "cell_type": "markdown",
   "id": "ae6c2f7f",
   "metadata": {},
   "source": [
    "# Regression Analysis"
   ]
  },
  {
   "cell_type": "code",
   "execution_count": 72,
   "id": "30934e7f",
   "metadata": {},
   "outputs": [],
   "source": [
    "#gauss_log = smf.glm(formula = formula, data=df_raw, family=sm.families.Gaussian(sm.families.links.log()))"
   ]
  },
  {
   "cell_type": "code",
   "execution_count": 28,
   "id": "1948f1c0",
   "metadata": {},
   "outputs": [
    {
     "name": "stdout",
     "output_type": "stream",
     "text": [
      "                 Generalized Linear Model Regression Results                  \n",
      "==============================================================================\n",
      "Dep. Variable:             trips_pool   No. Observations:                  126\n",
      "Model:                            GLM   Df Residuals:                      124\n",
      "Model Family:                Gaussian   Df Model:                            1\n",
      "Link Function:               identity   Scale:                          64243.\n",
      "Method:                          IRLS   Log-Likelihood:                -875.22\n",
      "Date:                Mon, 30 Jan 2023   Deviance:                   7.9661e+06\n",
      "Time:                        14:26:26   Pearson chi2:                 7.97e+06\n",
      "No. Iterations:                     3   Pseudo R-squ. (CS):            0.04242\n",
      "Covariance Type:            nonrobust                                         \n",
      "=======================================================================================\n",
      "                          coef    std err          z      P>|z|      [0.025      0.975]\n",
      "---------------------------------------------------------------------------------------\n",
      "Intercept            1355.3175     31.933     42.442      0.000    1292.730    1417.905\n",
      "wait_time[T.5 mins]   105.3810     45.160      2.333      0.020      16.868     193.894\n",
      "=======================================================================================\n",
      "                 Generalized Linear Model Regression Results                  \n",
      "==============================================================================\n",
      "Dep. Variable:          trips_express   No. Observations:                  126\n",
      "Model:                            GLM   Df Residuals:                      124\n",
      "Model Family:                Gaussian   Df Model:                            1\n",
      "Link Function:               identity   Scale:                      2.4030e+05\n",
      "Method:                          IRLS   Log-Likelihood:                -958.33\n",
      "Date:                Mon, 30 Jan 2023   Deviance:                   2.9798e+07\n",
      "Time:                        14:26:26   Pearson chi2:                 2.98e+07\n",
      "No. Iterations:                     3   Pseudo R-squ. (CS):            0.03786\n",
      "Covariance Type:            nonrobust                                         \n",
      "=======================================================================================\n",
      "                          coef    std err          z      P>|z|      [0.025      0.975]\n",
      "---------------------------------------------------------------------------------------\n",
      "Intercept            2611.6667     61.760     42.287      0.000    2490.618    2732.715\n",
      "wait_time[T.5 mins]  -192.2857     87.342     -2.202      0.028    -363.474     -21.098\n",
      "=======================================================================================\n",
      "                  Generalized Linear Model Regression Results                  \n",
      "===============================================================================\n",
      "Dep. Variable:     rider_cancellations   No. Observations:                  126\n",
      "Model:                             GLM   Df Residuals:                      124\n",
      "Model Family:                 Gaussian   Df Model:                            1\n",
      "Link Function:                identity   Scale:                          2531.4\n",
      "Method:                           IRLS   Log-Likelihood:                -671.48\n",
      "Date:                 Mon, 30 Jan 2023   Deviance:                   3.1389e+05\n",
      "Time:                         14:26:26   Pearson chi2:                 3.14e+05\n",
      "No. Iterations:                      3   Pseudo R-squ. (CS):            0.05895\n",
      "Covariance Type:             nonrobust                                         \n",
      "=======================================================================================\n",
      "                          coef    std err          z      P>|z|      [0.025      0.975]\n",
      "---------------------------------------------------------------------------------------\n",
      "Intercept             165.3492      6.339     26.085      0.000     152.925     177.773\n",
      "wait_time[T.5 mins]    24.7778      8.964      2.764      0.006       7.208      42.348\n",
      "=======================================================================================\n",
      "                  Generalized Linear Model Regression Results                  \n",
      "===============================================================================\n",
      "Dep. Variable:     double_matches_rate   No. Observations:                  126\n",
      "Model:                             GLM   Df Residuals:                      124\n",
      "Model Family:                 Gaussian   Df Model:                            1\n",
      "Link Function:                identity   Scale:                       0.0037883\n",
      "Method:                           IRLS   Log-Likelihood:                 173.50\n",
      "Date:                 Mon, 30 Jan 2023   Deviance:                      0.46976\n",
      "Time:                         14:26:26   Pearson chi2:                    0.470\n",
      "No. Iterations:                      3   Pseudo R-squ. (CS):            0.04786\n",
      "Covariance Type:             nonrobust                                         \n",
      "=======================================================================================\n",
      "                          coef    std err          z      P>|z|      [0.025      0.975]\n",
      "---------------------------------------------------------------------------------------\n",
      "Intercept               0.3218      0.008     41.493      0.000       0.307       0.337\n",
      "wait_time[T.5 mins]     0.0272      0.011      2.482      0.013       0.006       0.049\n",
      "=======================================================================================\n",
      "                 Generalized Linear Model Regression Results                  \n",
      "==============================================================================\n",
      "Dep. Variable:             match_rate   No. Observations:                  126\n",
      "Model:                            GLM   Df Residuals:                      124\n",
      "Model Family:                Gaussian   Df Model:                            1\n",
      "Link Function:               identity   Scale:                       0.0060362\n",
      "Method:                          IRLS   Log-Likelihood:                 144.15\n",
      "Date:                Mon, 30 Jan 2023   Deviance:                      0.74849\n",
      "Time:                        14:26:26   Pearson chi2:                    0.748\n",
      "No. Iterations:                     3   Pseudo R-squ. (CS):            0.04916\n",
      "Covariance Type:            nonrobust                                         \n",
      "=======================================================================================\n",
      "                          coef    std err          z      P>|z|      [0.025      0.975]\n",
      "---------------------------------------------------------------------------------------\n",
      "Intercept               0.6591      0.010     67.336      0.000       0.640       0.678\n",
      "wait_time[T.5 mins]    -0.0348      0.014     -2.517      0.012      -0.062      -0.008\n",
      "=======================================================================================\n",
      "                 Generalized Linear Model Regression Results                  \n",
      "==============================================================================\n",
      "Dep. Variable:          cost_per_ride   No. Observations:                  126\n",
      "Model:                            GLM   Df Residuals:                      124\n",
      "Model Family:                Gaussian   Df Model:                            1\n",
      "Link Function:               identity   Scale:                         0.37432\n",
      "Method:                          IRLS   Log-Likelihood:                -115.87\n",
      "Date:                Mon, 30 Jan 2023   Deviance:                       46.416\n",
      "Time:                        14:26:26   Pearson chi2:                     46.4\n",
      "No. Iterations:                     3   Pseudo R-squ. (CS):            0.09086\n",
      "Covariance Type:            nonrobust                                         \n",
      "=======================================================================================\n",
      "                          coef    std err          z      P>|z|      [0.025      0.975]\n",
      "---------------------------------------------------------------------------------------\n",
      "Intercept               7.3649      0.077     95.546      0.000       7.214       7.516\n",
      "wait_time[T.5 mins]    -0.3774      0.109     -3.462      0.001      -0.591      -0.164\n",
      "=======================================================================================\n",
      "                 Generalized Linear Model Regression Results                  \n",
      "==============================================================================\n",
      "Dep. Variable:             total_ride   No. Observations:                  126\n",
      "Model:                            GLM   Df Residuals:                      124\n",
      "Model Family:                Gaussian   Df Model:                            1\n",
      "Link Function:               identity   Scale:                      3.2978e+05\n",
      "Method:                          IRLS   Log-Likelihood:                -978.27\n",
      "Date:                Mon, 30 Jan 2023   Deviance:                   4.0892e+07\n",
      "Time:                        14:26:26   Pearson chi2:                 4.09e+07\n",
      "No. Iterations:                     3   Pseudo R-squ. (CS):           0.005836\n",
      "Covariance Type:            nonrobust                                         \n",
      "=======================================================================================\n",
      "                          coef    std err          z      P>|z|      [0.025      0.975]\n",
      "---------------------------------------------------------------------------------------\n",
      "Intercept            3966.9841     72.350     54.830      0.000    3825.180    4108.788\n",
      "wait_time[T.5 mins]   -86.9048    102.319     -0.849      0.396    -287.445     113.636\n",
      "=======================================================================================\n"
     ]
    }
   ],
   "source": [
    "formulas = ['trips_pool ~ wait_time', 'trips_express ~ wait_time', 'rider_cancellations ~ wait_time',\n",
    "            'double_matches_rate ~ wait_time','match_rate ~ wait_time','cost_per_ride ~ wait_time',\n",
    "            'total_ride ~ wait_time']\n",
    "for formula in formulas: \n",
    "    gauss_log = smf.glm(formula = formula, data=df_raw, family=sm.families.Gaussian())\n",
    "    gauss_results = gauss_log.fit()\n",
    "    print(gauss_results.summary())"
   ]
  }
 ],
 "metadata": {
  "kernelspec": {
   "display_name": "Python 3 (ipykernel)",
   "language": "python",
   "name": "python3"
  },
  "language_info": {
   "codemirror_mode": {
    "name": "ipython",
    "version": 3
   },
   "file_extension": ".py",
   "mimetype": "text/x-python",
   "name": "python",
   "nbconvert_exporter": "python",
   "pygments_lexer": "ipython3",
   "version": "3.9.12"
  }
 },
 "nbformat": 4,
 "nbformat_minor": 5
}
