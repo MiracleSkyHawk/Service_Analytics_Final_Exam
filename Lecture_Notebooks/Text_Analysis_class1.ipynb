{
 "cells": [
  {
   "cell_type": "code",
   "execution_count": 1,
   "id": "3958ef8d",
   "metadata": {},
   "outputs": [
    {
     "name": "stderr",
     "output_type": "stream",
     "text": [
      "[nltk_data] Downloading package punkt to\n",
      "[nltk_data]     C:\\Users\\Vahid\\AppData\\Roaming\\nltk_data...\n",
      "[nltk_data]   Package punkt is already up-to-date!\n",
      "[nltk_data] Downloading package stopwords to\n",
      "[nltk_data]     C:\\Users\\Vahid\\AppData\\Roaming\\nltk_data...\n",
      "[nltk_data]   Package stopwords is already up-to-date!\n",
      "[nltk_data] Downloading package stopwords to\n",
      "[nltk_data]     C:\\Users\\Vahid\\AppData\\Roaming\\nltk_data...\n",
      "[nltk_data]   Package stopwords is already up-to-date!\n",
      "[nltk_data] Downloading package wordnet to\n",
      "[nltk_data]     C:\\Users\\Vahid\\AppData\\Roaming\\nltk_data...\n",
      "[nltk_data]   Package wordnet is already up-to-date!\n",
      "[nltk_data] Downloading package averaged_perceptron_tagger to\n",
      "[nltk_data]     C:\\Users\\Vahid\\AppData\\Roaming\\nltk_data...\n",
      "[nltk_data]   Package averaged_perceptron_tagger is already up-to-\n",
      "[nltk_data]       date!\n"
     ]
    }
   ],
   "source": [
    "#!pip3 install googletrans==3.1.0a0\n",
    "\n",
    "import os\n",
    "import pandas as pd\n",
    "import nltk\n",
    "nltk.download('punkt')\n",
    "from nltk.corpus import stopwords\n",
    "nltk.download('stopwords')\n",
    "from nltk.stem.porter import PorterStemmer\n",
    "import numpy as np\n",
    "from autocorrect import Speller\n",
    "from googletrans import Translator, constants\n",
    "from matplotlib import pyplot as plt\n",
    "import re\n",
    "from nltk.corpus import stopwords\n",
    "from nltk import pos_tag\n",
    "nltk.download('stopwords')\n",
    "nltk.download('wordnet')\n",
    "from nltk.corpus import wordnet\n",
    "nltk.download('averaged_perceptron_tagger')\n",
    "from sklearn.feature_extraction.text import CountVectorizer\n",
    "from sklearn.feature_extraction.text import TfidfVectorizer\n",
    "from sklearn.feature_extraction.text import CountVectorizer\n",
    "from sklearn.feature_selection import chi2\n",
    "from sklearn.feature_selection import SelectKBest\n",
    "import numpy as geek\n",
    "import researchpy as rp\n",
    "from sklearn.metrics import plot_confusion_matrix\n",
    "from sklearn.metrics import classification_report\n",
    "from sklearn.metrics import roc_auc_score\n",
    "from sklearn.preprocessing import OneHotEncoder\n",
    "from itertools import cycle\n",
    "from sklearn.model_selection import train_test_split\n",
    "from sklearn.naive_bayes import GaussianNB, BernoulliNB, MultinomialNB\n",
    "from sklearn import metrics\n",
    "from sklearn.metrics import classification_report,confusion_matrix,roc_curve,auc\n",
    "from imblearn.over_sampling import SMOTE\n",
    "from imblearn.under_sampling import NearMiss\n",
    "from textblob import TextBlob\n",
    "import seaborn as sns\n",
    "from nltk.stem import WordNetLemmatizer\n",
    "from nltk.stem.wordnet import WordNetLemmatizer\n",
    "from nltk import word_tokenize"
   ]
  },
  {
   "cell_type": "code",
   "execution_count": 2,
   "id": "01021fe6",
   "metadata": {},
   "outputs": [
    {
     "data": {
      "text/plain": [
       "'This reativly new temple\\'s a big hindu version of Disney Land.... Quite expensive entrance for a temple. I accept the religious dress code so i was not alowed to enter in shorts. I had to rent an Indian lunghi, male long dress. The guards was not polite, almost unfriendly. One lady guard was about to destroy my expensive camera wich i had to leave outside. Inside the temple it was to follow the marked way. Somwhere you was blessed by some holy man. But everywhere there was stands with different things for sale. Worst was the way out with an enormous market with holy souvenirs of different quality, most kitscy plastic things\" made in China\". The holy experience i had looked forward to have dissapeared in a commercial thing. All they wanted was my money.'"
      ]
     },
     "execution_count": 2,
     "metadata": {},
     "output_type": "execute_result"
    }
   ],
   "source": [
    "text = \"\"\"This reativly new temple's a big hindu version of Disney Land.... Quite expensive entrance for a temple. I accept the religious dress code so i was not alowed to enter in shorts. I had to rent an Indian lunghi, male long dress. The guards was not polite, almost unfriendly. One lady guard was about to destroy my expensive camera wich i had to leave outside. Inside the temple it was to follow the marked way. Somwhere you was blessed by some holy man. But everywhere there was stands with different things for sale. Worst was the way out with an enormous market with holy souvenirs of different quality, most kitscy plastic things\" made in China\". The holy experience i had looked forward to have dissapeared in a commercial thing. All they wanted was my money.\"\"\"\n",
    "text"
   ]
  },
  {
   "cell_type": "markdown",
   "id": "da49d708",
   "metadata": {},
   "source": [
    "# Contraction Replacement"
   ]
  },
  {
   "cell_type": "code",
   "execution_count": 3,
   "id": "efeefacf",
   "metadata": {},
   "outputs": [
    {
     "name": "stdout",
     "output_type": "stream",
     "text": [
      "'s\n"
     ]
    },
    {
     "data": {
      "text/plain": [
       "'This reativly new temple is a big hindu version of Disney Land.... Quite expensive entrance for a temple. I accept the religious dress code so i was not alowed to enter in shorts. I had to rent an Indian lunghi, male long dress. The guards was not polite, almost unfriendly. One lady guard was about to destroy my expensive camera wich i had to leave outside. Inside the temple it was to follow the marked way. Somwhere you was blessed by some holy man. But everywhere there was stands with different things for sale. Worst was the way out with an enormous market with holy souvenirs of different quality, most kitscy plastic things\" made in China\". The holy experience i had looked forward to have dissapeared in a commercial thing. All they wanted was my money.'"
      ]
     },
     "execution_count": 3,
     "metadata": {},
     "output_type": "execute_result"
    }
   ],
   "source": [
    "#dictionary consisting of the contraction and the actual value\n",
    "Apos_dict={\"'s\":\" is\",\"n't\":\" not\",\"'m\":\" am\",\"'ll\":\" will\",\n",
    "           \"'d\":\" would\",\"'ve\":\" have\",\"'re\":\" are\"}\n",
    "\n",
    "for key,value in Apos_dict.items():\n",
    "    if key in text:\n",
    "        print(key)\n",
    "        text=text.replace(key,value)\n",
    "text"
   ]
  },
  {
   "cell_type": "code",
   "execution_count": 4,
   "id": "022bddea",
   "metadata": {},
   "outputs": [
    {
     "data": {
      "text/plain": [
       "{\"'s\": ' is',\n",
       " \"n't\": ' not',\n",
       " \"'m\": ' am',\n",
       " \"'ll\": ' will',\n",
       " \"'d\": ' would',\n",
       " \"'ve\": ' have',\n",
       " \"'re\": ' are',\n",
       " 'nt': 'not'}"
      ]
     },
     "execution_count": 4,
     "metadata": {},
     "output_type": "execute_result"
    }
   ],
   "source": [
    "#Adding into contraction dictionary\n",
    "Apos_dict['nt'] = 'not'\n",
    "Apos_dict"
   ]
  },
  {
   "cell_type": "markdown",
   "id": "f97490f4",
   "metadata": {},
   "source": [
    "# Remove everything than word"
   ]
  },
  {
   "cell_type": "code",
   "execution_count": 5,
   "id": "b9c53c7b",
   "metadata": {},
   "outputs": [
    {
     "data": {
      "text/plain": [
       "'This reativly new temple is a big hindu version of Disney Land Quite expensive entrance for a temple I accept the religious dress code so i was not alowed to enter in shorts I had to rent an Indian lunghi male long dress The guards was not polite almost unfriendly One lady guard was about to destroy my expensive camera wich i had to leave outside Inside the temple it was to follow the marked way Somwhere you was blessed by some holy man But everywhere there was stands with different things for sale Worst was the way out with an enormous market with holy souvenirs of different quality most kitscy plastic things made in China The holy experience i had looked forward to have dissapeared in a commercial thing All they wanted was my money '"
      ]
     },
     "execution_count": 5,
     "metadata": {},
     "output_type": "execute_result"
    }
   ],
   "source": [
    "text = re.sub('[^A-Za-z]+', ' ', text) \n",
    "text"
   ]
  },
  {
   "cell_type": "markdown",
   "id": "2151ae53",
   "metadata": {},
   "source": [
    "# Upper case to the lower case "
   ]
  },
  {
   "cell_type": "code",
   "execution_count": 6,
   "id": "482bff0e",
   "metadata": {},
   "outputs": [
    {
     "data": {
      "text/plain": [
       "'this reativly new temple is a big hindu version of disney land quite expensive entrance for a temple i accept the religious dress code so i was not alowed to enter in shorts i had to rent an indian lunghi male long dress the guards was not polite almost unfriendly one lady guard was about to destroy my expensive camera wich i had to leave outside inside the temple it was to follow the marked way somwhere you was blessed by some holy man but everywhere there was stands with different things for sale worst was the way out with an enormous market with holy souvenirs of different quality most kitscy plastic things made in china the holy experience i had looked forward to have dissapeared in a commercial thing all they wanted was my money '"
      ]
     },
     "execution_count": 6,
     "metadata": {},
     "output_type": "execute_result"
    }
   ],
   "source": [
    "text = text.lower()\n",
    "text"
   ]
  },
  {
   "cell_type": "markdown",
   "id": "4a65ff6c",
   "metadata": {},
   "source": [
    "# Slang Corrector"
   ]
  },
  {
   "cell_type": "code",
   "execution_count": 7,
   "id": "c8ff1b4d",
   "metadata": {},
   "outputs": [
    {
     "data": {
      "text/plain": [
       "['afaik=as far as i know',\n",
       " 'afk=away from keyboard',\n",
       " 'asap=as soon as possible',\n",
       " 'atk=at the keyboard',\n",
       " 'atm=at the moment',\n",
       " 'a3=anytime, anywhere, anyplace',\n",
       " 'bak=back at keyboard',\n",
       " 'bbl=be back later',\n",
       " 'bbs=be back soon',\n",
       " 'bfn=bye for now',\n",
       " 'b4n=bye for now',\n",
       " 'brb=be right back',\n",
       " 'brt=be right there',\n",
       " 'btw=by the way',\n",
       " 'b4=before',\n",
       " 'b4n=bye for now',\n",
       " 'cu=see you',\n",
       " 'cul8r=see you later',\n",
       " 'cya=see you',\n",
       " 'faq=frequently asked questions',\n",
       " 'fc=fingers crossed',\n",
       " \"fwiw=for what it's worth\",\n",
       " 'fyi=for your information',\n",
       " 'gal=get a life',\n",
       " 'gg=good game',\n",
       " 'gn=good night',\n",
       " 'gmta=great minds think alike',\n",
       " 'gr8=great!',\n",
       " 'g9=genius',\n",
       " 'ic=i see',\n",
       " 'icq=i seek you (also a chat program)',\n",
       " 'ilu=ilu: i love you',\n",
       " 'imho=in my honest/humble opinion',\n",
       " 'imo=in my opinion',\n",
       " 'iow=in other words',\n",
       " 'irl=in real life',\n",
       " 'kiss=keep it simple, stupid',\n",
       " 'ldr=long distance relationship',\n",
       " 'lmao=laugh my a.. off',\n",
       " 'lol=laughing out loud',\n",
       " 'ltns=long time no see',\n",
       " 'luv=love',\n",
       " 'l8r=later',\n",
       " 'mte=my thoughts exactly',\n",
       " 'm8=mate',\n",
       " 'nrn=no reply necessary',\n",
       " 'oic=oh i see',\n",
       " 'pita=pain in the a..',\n",
       " 'prt=party',\n",
       " 'prw=parents are watching',\n",
       " 'qpsa?\\tque pasa?',\n",
       " 'rofl=rolling on the floor laughing',\n",
       " 'roflol=rolling on the floor laughing out loud',\n",
       " 'rotflmao=rolling on the floor laughing my a.. off',\n",
       " 'sk8=skate',\n",
       " 'stats=your sex and age',\n",
       " 'asl=age, sex, location',\n",
       " 'thx=thank you',\n",
       " 'ttfn=ta-ta for now!',\n",
       " 'ttyl=talk to you later',\n",
       " 'u=you',\n",
       " 'u2=you too',\n",
       " 'u4e=yours for ever',\n",
       " 'wb=welcome back',\n",
       " 'wtf=what the f...',\n",
       " 'wtg=way to go!',\n",
       " 'wuf=where are you from?',\n",
       " 'w8=wait...',\n",
       " '7k=sick:-d laugher']"
      ]
     },
     "execution_count": 7,
     "metadata": {},
     "output_type": "execute_result"
    }
   ],
   "source": [
    "path = \"C:\\\\Users\\\\Vahid\\\\OneDrive - University of Toronto\\\\MMA - 2022 -\\\\Jupyter files\\\\Data\\\\\"\n",
    "#open the file slang.txt\n",
    "file=open(path+\"slang.txt\",\"r\")\n",
    "slang=file.read()\n",
    "#separating each line present in the file\n",
    "slang=slang.split('\\n')\n",
    "slang"
   ]
  },
  {
   "cell_type": "code",
   "execution_count": 8,
   "id": "4c2cee3a",
   "metadata": {},
   "outputs": [
    {
     "data": {
      "text/plain": [
       "{'afaik': 'as far as i know',\n",
       " 'afk': 'away from keyboard',\n",
       " 'asap': 'as soon as possible',\n",
       " 'atk': 'at the keyboard',\n",
       " 'atm': 'at the moment',\n",
       " 'a3': 'anytime, anywhere, anyplace',\n",
       " 'bak': 'back at keyboard',\n",
       " 'bbl': 'be back later',\n",
       " 'bbs': 'be back soon',\n",
       " 'bfn': 'bye for now',\n",
       " 'b4n': 'bye for now',\n",
       " 'brb': 'be right back',\n",
       " 'brt': 'be right there',\n",
       " 'btw': 'by the way',\n",
       " 'b4': 'before',\n",
       " 'cu': 'see you',\n",
       " 'cul8r': 'see you later',\n",
       " 'cya': 'see you',\n",
       " 'faq': 'frequently asked questions',\n",
       " 'fc': 'fingers crossed',\n",
       " 'fwiw': \"for what it's worth\",\n",
       " 'fyi': 'for your information',\n",
       " 'gal': 'get a life',\n",
       " 'gg': 'good game',\n",
       " 'gn': 'good night',\n",
       " 'gmta': 'great minds think alike',\n",
       " 'gr8': 'great!',\n",
       " 'g9': 'genius',\n",
       " 'ic': 'i see',\n",
       " 'icq': 'i seek you (also a chat program)',\n",
       " 'ilu': 'ilu: i love you',\n",
       " 'imho': 'in my honest/humble opinion',\n",
       " 'imo': 'in my opinion',\n",
       " 'iow': 'in other words',\n",
       " 'irl': 'in real life',\n",
       " 'kiss': 'keep it simple, stupid',\n",
       " 'ldr': 'long distance relationship',\n",
       " 'lmao': 'laugh my a.. off',\n",
       " 'lol': 'laughing out loud',\n",
       " 'ltns': 'long time no see',\n",
       " 'luv': 'love',\n",
       " 'l8r': 'later',\n",
       " 'mte': 'my thoughts exactly',\n",
       " 'm8': 'mate',\n",
       " 'nrn': 'no reply necessary',\n",
       " 'oic': 'oh i see',\n",
       " 'pita': 'pain in the a..',\n",
       " 'prt': 'party',\n",
       " 'prw': 'parents are watching',\n",
       " 'qpsa?\\tque pasa?': 'qpsa?\\tque pasa?',\n",
       " 'rofl': 'rolling on the floor laughing',\n",
       " 'roflol': 'rolling on the floor laughing out loud',\n",
       " 'rotflmao': 'rolling on the floor laughing my a.. off',\n",
       " 'sk8': 'skate',\n",
       " 'stats': 'your sex and age',\n",
       " 'asl': 'age, sex, location',\n",
       " 'thx': 'thank you',\n",
       " 'ttfn': 'ta-ta for now!',\n",
       " 'ttyl': 'talk to you later',\n",
       " 'u': 'you',\n",
       " 'u2': 'you too',\n",
       " 'u4e': 'yours for ever',\n",
       " 'wb': 'welcome back',\n",
       " 'wtf': 'what the f...',\n",
       " 'wtg': 'way to go!',\n",
       " 'wuf': 'where are you from?',\n",
       " 'w8': 'wait...',\n",
       " '7k': 'sick:-d laugher'}"
      ]
     },
     "execution_count": 8,
     "metadata": {},
     "output_type": "execute_result"
    }
   ],
   "source": [
    "# creating dictionary from slang (which is list)\n",
    "Slang_dict=dict()\n",
    "for line in slang:\n",
    "    temp=line.split(\"=\")\n",
    "    Slang_dict[temp[0]] = temp[-1]\n",
    "Slang_dict"
   ]
  },
  {
   "cell_type": "code",
   "execution_count": 9,
   "id": "fd7233be",
   "metadata": {},
   "outputs": [
    {
     "data": {
      "text/plain": [
       "'this reativly new temple is a big hindyou version of disney land qyouite expensive entrance for a temple i accept the religioyous dress code so i was not alowed to enter in shorts i had to rent an indian lyounghi male long dress the gyouards was not polite almost younfriendly one lady gyouard was aboyout to destroy my expensive camera wi seeh i had to leave oyoutside inside the temple it was to follow the marked way somwhere yoyou was blessed by some holy man byout everywhere there was stands with different things for sale worst was the way oyout with an enormoyous market with holy soyouvenirs of different qyouality most kitscy plasti see things made in china the holy experience i had looked forward to have dissapeared in a commercial thing all they wanted was my money '"
      ]
     },
     "execution_count": 9,
     "metadata": {},
     "output_type": "execute_result"
    }
   ],
   "source": [
    "for key,value in Slang_dict.items():\n",
    "    if key in text:\n",
    "        text=text.replace(key,value)\n",
    "text        "
   ]
  },
  {
   "cell_type": "code",
   "execution_count": 10,
   "id": "eb90977b",
   "metadata": {},
   "outputs": [
    {
     "data": {
      "text/plain": [
       "['u=you',\n",
       " 'u2=you too',\n",
       " 'u4e=yours for ever',\n",
       " 'wb=welcome back',\n",
       " 'wtf=what the f...',\n",
       " 'wtg=way to go!',\n",
       " 'wuf=where are you from?',\n",
       " 'w8=wait...',\n",
       " '7k=sick:-d laugher',\n",
       " 'ur = you are']"
      ]
     },
     "execution_count": 10,
     "metadata": {},
     "output_type": "execute_result"
    }
   ],
   "source": [
    "# adding into list of slang\n",
    "slang.append('ur = you are')\n",
    "slang[-10:]"
   ]
  },
  {
   "cell_type": "markdown",
   "id": "fe70c7ab",
   "metadata": {},
   "source": [
    "# Tokenization"
   ]
  },
  {
   "cell_type": "code",
   "execution_count": 11,
   "id": "cbf2daf4",
   "metadata": {},
   "outputs": [
    {
     "data": {
      "text/plain": [
       "['this',\n",
       " 'reativly',\n",
       " 'new',\n",
       " 'temple',\n",
       " 'is',\n",
       " 'a',\n",
       " 'big',\n",
       " 'hindyou',\n",
       " 'version',\n",
       " 'of',\n",
       " 'disney',\n",
       " 'land',\n",
       " 'qyouite',\n",
       " 'expensive',\n",
       " 'entrance',\n",
       " 'for',\n",
       " 'a',\n",
       " 'temple',\n",
       " 'i',\n",
       " 'accept',\n",
       " 'the',\n",
       " 'religioyous',\n",
       " 'dress',\n",
       " 'code',\n",
       " 'so',\n",
       " 'i',\n",
       " 'was',\n",
       " 'not',\n",
       " 'alowed',\n",
       " 'to',\n",
       " 'enter',\n",
       " 'in',\n",
       " 'shorts',\n",
       " 'i',\n",
       " 'had',\n",
       " 'to',\n",
       " 'rent',\n",
       " 'an',\n",
       " 'indian',\n",
       " 'lyounghi',\n",
       " 'male',\n",
       " 'long',\n",
       " 'dress',\n",
       " 'the',\n",
       " 'gyouards',\n",
       " 'was',\n",
       " 'not',\n",
       " 'polite',\n",
       " 'almost',\n",
       " 'younfriendly',\n",
       " 'one',\n",
       " 'lady',\n",
       " 'gyouard',\n",
       " 'was',\n",
       " 'aboyout',\n",
       " 'to',\n",
       " 'destroy',\n",
       " 'my',\n",
       " 'expensive',\n",
       " 'camera',\n",
       " 'wi',\n",
       " 'seeh',\n",
       " 'i',\n",
       " 'had',\n",
       " 'to',\n",
       " 'leave',\n",
       " 'oyoutside',\n",
       " 'inside',\n",
       " 'the',\n",
       " 'temple',\n",
       " 'it',\n",
       " 'was',\n",
       " 'to',\n",
       " 'follow',\n",
       " 'the',\n",
       " 'marked',\n",
       " 'way',\n",
       " 'somwhere',\n",
       " 'yoyou',\n",
       " 'was',\n",
       " 'blessed',\n",
       " 'by',\n",
       " 'some',\n",
       " 'holy',\n",
       " 'man',\n",
       " 'byout',\n",
       " 'everywhere',\n",
       " 'there',\n",
       " 'was',\n",
       " 'stands',\n",
       " 'with',\n",
       " 'different',\n",
       " 'things',\n",
       " 'for',\n",
       " 'sale',\n",
       " 'worst',\n",
       " 'was',\n",
       " 'the',\n",
       " 'way',\n",
       " 'oyout',\n",
       " 'with',\n",
       " 'an',\n",
       " 'enormoyous',\n",
       " 'market',\n",
       " 'with',\n",
       " 'holy',\n",
       " 'soyouvenirs',\n",
       " 'of',\n",
       " 'different',\n",
       " 'qyouality',\n",
       " 'most',\n",
       " 'kitscy',\n",
       " 'plasti',\n",
       " 'see',\n",
       " 'things',\n",
       " 'made',\n",
       " 'in',\n",
       " 'china',\n",
       " 'the',\n",
       " 'holy',\n",
       " 'experience',\n",
       " 'i',\n",
       " 'had',\n",
       " 'looked',\n",
       " 'forward',\n",
       " 'to',\n",
       " 'have',\n",
       " 'dissapeared',\n",
       " 'in',\n",
       " 'a',\n",
       " 'commercial',\n",
       " 'thing',\n",
       " 'all',\n",
       " 'they',\n",
       " 'wanted',\n",
       " 'was',\n",
       " 'my',\n",
       " 'money']"
      ]
     },
     "execution_count": 11,
     "metadata": {},
     "output_type": "execute_result"
    }
   ],
   "source": [
    "text = word_tokenize(text)\n",
    "text "
   ]
  },
  {
   "cell_type": "markdown",
   "id": "33f078c2",
   "metadata": {},
   "source": [
    "# Remove stop words"
   ]
  },
  {
   "cell_type": "code",
   "execution_count": 12,
   "id": "6796cb1a",
   "metadata": {},
   "outputs": [
    {
     "name": "stdout",
     "output_type": "stream",
     "text": [
      "['i', 'me', 'my', 'myself', 'we', 'our', 'ours', 'ourselves', 'you', \"you're\", \"you've\", \"you'll\", \"you'd\", 'your', 'yours', 'yourself', 'yourselves', 'he', 'him', 'his', 'himself', 'she', \"she's\", 'her', 'hers', 'herself', 'it', \"it's\", 'its', 'itself', 'they', 'them', 'their', 'theirs', 'themselves', 'what', 'which', 'who', 'whom', 'this', 'that', \"that'll\", 'these', 'those', 'am', 'is', 'are', 'was', 'were', 'be', 'been', 'being', 'have', 'has', 'had', 'having', 'do', 'does', 'did', 'doing', 'a', 'an', 'the', 'and', 'but', 'if', 'or', 'because', 'as', 'until', 'while', 'of', 'at', 'by', 'for', 'with', 'about', 'against', 'between', 'into', 'through', 'during', 'before', 'after', 'above', 'below', 'to', 'from', 'up', 'down', 'in', 'out', 'on', 'off', 'over', 'under', 'again', 'further', 'then', 'once', 'here', 'there', 'when', 'where', 'why', 'how', 'all', 'any', 'both', 'each', 'few', 'more', 'most', 'other', 'some', 'such', 'no', 'nor', 'not', 'only', 'own', 'same', 'so', 'than', 'too', 'very', 's', 't', 'can', 'will', 'just', 'don', \"don't\", 'should', \"should've\", 'now', 'd', 'll', 'm', 'o', 're', 've', 'y', 'ain', 'aren', \"aren't\", 'couldn', \"couldn't\", 'didn', \"didn't\", 'doesn', \"doesn't\", 'hadn', \"hadn't\", 'hasn', \"hasn't\", 'haven', \"haven't\", 'isn', \"isn't\", 'ma', 'mightn', \"mightn't\", 'mustn', \"mustn't\", 'needn', \"needn't\", 'shan', \"shan't\", 'shouldn', \"shouldn't\", 'wasn', \"wasn't\", 'weren', \"weren't\", 'won', \"won't\", 'wouldn', \"wouldn't\"]\n"
     ]
    }
   ],
   "source": [
    "# Import stopwords with nltk.\n",
    "stop = stopwords.words('english')\n",
    "print(stop)"
   ]
  },
  {
   "cell_type": "code",
   "execution_count": 13,
   "id": "a2c851d3",
   "metadata": {},
   "outputs": [
    {
     "data": {
      "text/plain": [
       "['reativly',\n",
       " 'new',\n",
       " 'temple',\n",
       " 'big',\n",
       " 'hindyou',\n",
       " 'version',\n",
       " 'disney',\n",
       " 'land',\n",
       " 'qyouite',\n",
       " 'expensive',\n",
       " 'entrance',\n",
       " 'temple',\n",
       " 'accept',\n",
       " 'religioyous',\n",
       " 'dress',\n",
       " 'code',\n",
       " 'alowed',\n",
       " 'enter',\n",
       " 'shorts',\n",
       " 'rent',\n",
       " 'indian',\n",
       " 'lyounghi',\n",
       " 'male',\n",
       " 'long',\n",
       " 'dress',\n",
       " 'gyouards',\n",
       " 'polite',\n",
       " 'almost',\n",
       " 'younfriendly',\n",
       " 'one',\n",
       " 'lady',\n",
       " 'gyouard',\n",
       " 'aboyout',\n",
       " 'destroy',\n",
       " 'expensive',\n",
       " 'camera',\n",
       " 'wi',\n",
       " 'seeh',\n",
       " 'leave',\n",
       " 'oyoutside',\n",
       " 'inside',\n",
       " 'temple',\n",
       " 'follow',\n",
       " 'marked',\n",
       " 'way',\n",
       " 'somwhere',\n",
       " 'yoyou',\n",
       " 'blessed',\n",
       " 'holy',\n",
       " 'man',\n",
       " 'byout',\n",
       " 'everywhere',\n",
       " 'stands',\n",
       " 'different',\n",
       " 'things',\n",
       " 'sale',\n",
       " 'worst',\n",
       " 'way',\n",
       " 'oyout',\n",
       " 'enormoyous',\n",
       " 'market',\n",
       " 'holy',\n",
       " 'soyouvenirs',\n",
       " 'different',\n",
       " 'qyouality',\n",
       " 'kitscy',\n",
       " 'plasti',\n",
       " 'see',\n",
       " 'things',\n",
       " 'made',\n",
       " 'china',\n",
       " 'holy',\n",
       " 'experience',\n",
       " 'looked',\n",
       " 'forward',\n",
       " 'dissapeared',\n",
       " 'commercial',\n",
       " 'thing',\n",
       " 'wanted',\n",
       " 'money']"
      ]
     },
     "execution_count": 13,
     "metadata": {},
     "output_type": "execute_result"
    }
   ],
   "source": [
    "text = [word for word in text if word not in stopwords.words('english')]\n",
    "text"
   ]
  },
  {
   "cell_type": "code",
   "execution_count": 14,
   "id": "c9275188",
   "metadata": {},
   "outputs": [
    {
     "data": {
      "text/plain": [
       "'reativly new temple big hindyou version disney land qyouite expensive entrance temple accept religioyous dress code alowed enter short rent indian lyounghi male long dress gyouards polite almost younfriendly one lady gyouard aboyout destroy expensive camera wi seeh leave oyoutside inside temple follow marked way somwhere yoyou blessed holy man byout everywhere stand different thing sale worst way oyout enormoyous market holy soyouvenirs different qyouality kitscy plasti see thing made china holy experience looked forward dissapeared commercial thing wanted money'"
      ]
     },
     "execution_count": 14,
     "metadata": {},
     "output_type": "execute_result"
    }
   ],
   "source": [
    "lmtzr = WordNetLemmatizer()\n",
    "\n",
    "text = ' '.join([lmtzr.lemmatize(word) for word in text])\n",
    "text"
   ]
  },
  {
   "cell_type": "markdown",
   "id": "0248afed",
   "metadata": {},
   "source": [
    "# BOW - Unigram"
   ]
  },
  {
   "cell_type": "code",
   "execution_count": 15,
   "id": "5bf536a5",
   "metadata": {},
   "outputs": [
    {
     "name": "stderr",
     "output_type": "stream",
     "text": [
      "C:\\Users\\Vahid\\anaconda3\\lib\\site-packages\\sklearn\\utils\\deprecation.py:87: FutureWarning: Function get_feature_names is deprecated; get_feature_names is deprecated in 1.0 and will be removed in 1.2. Please use get_feature_names_out instead.\n",
      "  warnings.warn(msg, category=FutureWarning)\n"
     ]
    },
    {
     "data": {
      "text/html": [
       "<div>\n",
       "<style scoped>\n",
       "    .dataframe tbody tr th:only-of-type {\n",
       "        vertical-align: middle;\n",
       "    }\n",
       "\n",
       "    .dataframe tbody tr th {\n",
       "        vertical-align: top;\n",
       "    }\n",
       "\n",
       "    .dataframe thead th {\n",
       "        text-align: right;\n",
       "    }\n",
       "</style>\n",
       "<table border=\"1\" class=\"dataframe\">\n",
       "  <thead>\n",
       "    <tr style=\"text-align: right;\">\n",
       "      <th></th>\n",
       "      <th>aboyout</th>\n",
       "      <th>accept</th>\n",
       "      <th>almost</th>\n",
       "      <th>alowed</th>\n",
       "      <th>and</th>\n",
       "      <th>ants</th>\n",
       "      <th>atmosphere</th>\n",
       "      <th>barefoot</th>\n",
       "      <th>big</th>\n",
       "      <th>blessed</th>\n",
       "      <th>...</th>\n",
       "      <th>way</th>\n",
       "      <th>went</th>\n",
       "      <th>wi</th>\n",
       "      <th>wide</th>\n",
       "      <th>will</th>\n",
       "      <th>worship</th>\n",
       "      <th>worst</th>\n",
       "      <th>yes</th>\n",
       "      <th>younfriendly</th>\n",
       "      <th>yoyou</th>\n",
       "    </tr>\n",
       "  </thead>\n",
       "  <tbody>\n",
       "    <tr>\n",
       "      <th>0</th>\n",
       "      <td>1</td>\n",
       "      <td>1</td>\n",
       "      <td>1</td>\n",
       "      <td>1</td>\n",
       "      <td>0</td>\n",
       "      <td>0</td>\n",
       "      <td>0</td>\n",
       "      <td>0</td>\n",
       "      <td>1</td>\n",
       "      <td>1</td>\n",
       "      <td>...</td>\n",
       "      <td>2</td>\n",
       "      <td>0</td>\n",
       "      <td>1</td>\n",
       "      <td>0</td>\n",
       "      <td>0</td>\n",
       "      <td>0</td>\n",
       "      <td>1</td>\n",
       "      <td>0</td>\n",
       "      <td>1</td>\n",
       "      <td>1</td>\n",
       "    </tr>\n",
       "    <tr>\n",
       "      <th>1</th>\n",
       "      <td>0</td>\n",
       "      <td>0</td>\n",
       "      <td>0</td>\n",
       "      <td>0</td>\n",
       "      <td>1</td>\n",
       "      <td>1</td>\n",
       "      <td>1</td>\n",
       "      <td>1</td>\n",
       "      <td>0</td>\n",
       "      <td>0</td>\n",
       "      <td>...</td>\n",
       "      <td>1</td>\n",
       "      <td>1</td>\n",
       "      <td>0</td>\n",
       "      <td>1</td>\n",
       "      <td>2</td>\n",
       "      <td>2</td>\n",
       "      <td>0</td>\n",
       "      <td>1</td>\n",
       "      <td>0</td>\n",
       "      <td>0</td>\n",
       "    </tr>\n",
       "  </tbody>\n",
       "</table>\n",
       "<p>2 rows × 117 columns</p>\n",
       "</div>"
      ],
      "text/plain": [
       "   aboyout  accept  almost  alowed  and  ants  atmosphere  barefoot  big  \\\n",
       "0        1       1       1       1    0     0           0         0    1   \n",
       "1        0       0       0       0    1     1           1         1    0   \n",
       "\n",
       "   blessed  ...  way  went  wi  wide  will  worship  worst  yes  younfriendly  \\\n",
       "0        1  ...    2     0   1     0     0        0      1    0             1   \n",
       "1        0  ...    1     1   0     1     2        2      0    1             0   \n",
       "\n",
       "   yoyou  \n",
       "0      1  \n",
       "1      0  \n",
       "\n",
       "[2 rows x 117 columns]"
      ]
     },
     "execution_count": 15,
     "metadata": {},
     "output_type": "execute_result"
    }
   ],
   "source": [
    "text2 = 'I went sightseeing in three people. Wide in unexpectedly, it is the most deep atmosphere in the way of local. Worship barefoot. People of shorts will visit dressed in cloth (rental). Yes Snack Corner, ants and souvenirs, is there a buffet restaurant, it has to some extent touristy, is only less expensive that the local-friendly, is heterogeneous. Worship time will take quite. Severe in 1 hour.'\n",
    "word_vectorizer = CountVectorizer(ngram_range=(1,1), analyzer='word')\n",
    "sparse_matrix = word_vectorizer.fit_transform([text,text2])\n",
    "df = pd.DataFrame(sparse_matrix.toarray())\n",
    "df.columns = word_vectorizer.get_feature_names()\n",
    "df.head()"
   ]
  },
  {
   "cell_type": "code",
   "execution_count": 16,
   "id": "068a04a8",
   "metadata": {},
   "outputs": [
    {
     "name": "stderr",
     "output_type": "stream",
     "text": [
      "C:\\Users\\Vahid\\anaconda3\\lib\\site-packages\\sklearn\\utils\\deprecation.py:87: FutureWarning: Function get_feature_names is deprecated; get_feature_names is deprecated in 1.0 and will be removed in 1.2. Please use get_feature_names_out instead.\n",
      "  warnings.warn(msg, category=FutureWarning)\n"
     ]
    },
    {
     "data": {
      "text/html": [
       "<div>\n",
       "<style scoped>\n",
       "    .dataframe tbody tr th:only-of-type {\n",
       "        vertical-align: middle;\n",
       "    }\n",
       "\n",
       "    .dataframe tbody tr th {\n",
       "        vertical-align: top;\n",
       "    }\n",
       "\n",
       "    .dataframe thead th {\n",
       "        text-align: right;\n",
       "    }\n",
       "</style>\n",
       "<table border=\"1\" class=\"dataframe\">\n",
       "  <thead>\n",
       "    <tr style=\"text-align: right;\">\n",
       "      <th></th>\n",
       "      <th>frequency</th>\n",
       "    </tr>\n",
       "  </thead>\n",
       "  <tbody>\n",
       "    <tr>\n",
       "      <th>in</th>\n",
       "      <td>5</td>\n",
       "    </tr>\n",
       "    <tr>\n",
       "      <th>is</th>\n",
       "      <td>4</td>\n",
       "    </tr>\n",
       "    <tr>\n",
       "      <th>way</th>\n",
       "      <td>3</td>\n",
       "    </tr>\n",
       "    <tr>\n",
       "      <th>thing</th>\n",
       "      <td>3</td>\n",
       "    </tr>\n",
       "    <tr>\n",
       "      <th>the</th>\n",
       "      <td>3</td>\n",
       "    </tr>\n",
       "  </tbody>\n",
       "</table>\n",
       "</div>"
      ],
      "text/plain": [
       "       frequency\n",
       "in             5\n",
       "is             4\n",
       "way            3\n",
       "thing          3\n",
       "the            3"
      ]
     },
     "execution_count": 16,
     "metadata": {},
     "output_type": "execute_result"
    }
   ],
   "source": [
    "frequencies = sum(sparse_matrix).toarray()[0]\n",
    "words_count = pd.DataFrame(frequencies, index=word_vectorizer.get_feature_names(), columns=['frequency'])\n",
    "words_count.sort_values(by='frequency',inplace=True,ascending=False)\n",
    "words_count.head()"
   ]
  },
  {
   "cell_type": "markdown",
   "id": "8f85e84d",
   "metadata": {},
   "source": [
    "# BOW - Biagram"
   ]
  },
  {
   "cell_type": "code",
   "execution_count": 17,
   "id": "544eb8a9",
   "metadata": {},
   "outputs": [
    {
     "name": "stderr",
     "output_type": "stream",
     "text": [
      "C:\\Users\\Vahid\\anaconda3\\lib\\site-packages\\sklearn\\utils\\deprecation.py:87: FutureWarning: Function get_feature_names is deprecated; get_feature_names is deprecated in 1.0 and will be removed in 1.2. Please use get_feature_names_out instead.\n",
      "  warnings.warn(msg, category=FutureWarning)\n"
     ]
    },
    {
     "data": {
      "text/html": [
       "<div>\n",
       "<style scoped>\n",
       "    .dataframe tbody tr th:only-of-type {\n",
       "        vertical-align: middle;\n",
       "    }\n",
       "\n",
       "    .dataframe tbody tr th {\n",
       "        vertical-align: top;\n",
       "    }\n",
       "\n",
       "    .dataframe thead th {\n",
       "        text-align: right;\n",
       "    }\n",
       "</style>\n",
       "<table border=\"1\" class=\"dataframe\">\n",
       "  <thead>\n",
       "    <tr style=\"text-align: right;\">\n",
       "      <th></th>\n",
       "      <th>aboyout destroy</th>\n",
       "      <th>accept religioyous</th>\n",
       "      <th>almost younfriendly</th>\n",
       "      <th>alowed enter</th>\n",
       "      <th>and souvenirs</th>\n",
       "      <th>ants and</th>\n",
       "      <th>atmosphere in</th>\n",
       "      <th>barefoot people</th>\n",
       "      <th>big hindyou</th>\n",
       "      <th>blessed holy</th>\n",
       "      <th>...</th>\n",
       "      <th>wi seeh</th>\n",
       "      <th>wide in</th>\n",
       "      <th>will take</th>\n",
       "      <th>will visit</th>\n",
       "      <th>worship barefoot</th>\n",
       "      <th>worship time</th>\n",
       "      <th>worst way</th>\n",
       "      <th>yes snack</th>\n",
       "      <th>younfriendly one</th>\n",
       "      <th>yoyou blessed</th>\n",
       "    </tr>\n",
       "  </thead>\n",
       "  <tbody>\n",
       "    <tr>\n",
       "      <th>0</th>\n",
       "      <td>1</td>\n",
       "      <td>1</td>\n",
       "      <td>1</td>\n",
       "      <td>1</td>\n",
       "      <td>0</td>\n",
       "      <td>0</td>\n",
       "      <td>0</td>\n",
       "      <td>0</td>\n",
       "      <td>1</td>\n",
       "      <td>1</td>\n",
       "      <td>...</td>\n",
       "      <td>1</td>\n",
       "      <td>0</td>\n",
       "      <td>0</td>\n",
       "      <td>0</td>\n",
       "      <td>0</td>\n",
       "      <td>0</td>\n",
       "      <td>1</td>\n",
       "      <td>0</td>\n",
       "      <td>1</td>\n",
       "      <td>1</td>\n",
       "    </tr>\n",
       "    <tr>\n",
       "      <th>1</th>\n",
       "      <td>0</td>\n",
       "      <td>0</td>\n",
       "      <td>0</td>\n",
       "      <td>0</td>\n",
       "      <td>1</td>\n",
       "      <td>1</td>\n",
       "      <td>1</td>\n",
       "      <td>1</td>\n",
       "      <td>0</td>\n",
       "      <td>0</td>\n",
       "      <td>...</td>\n",
       "      <td>0</td>\n",
       "      <td>1</td>\n",
       "      <td>1</td>\n",
       "      <td>1</td>\n",
       "      <td>1</td>\n",
       "      <td>1</td>\n",
       "      <td>0</td>\n",
       "      <td>1</td>\n",
       "      <td>0</td>\n",
       "      <td>0</td>\n",
       "    </tr>\n",
       "  </tbody>\n",
       "</table>\n",
       "<p>2 rows × 142 columns</p>\n",
       "</div>"
      ],
      "text/plain": [
       "   aboyout destroy  accept religioyous  almost younfriendly  alowed enter  \\\n",
       "0                1                   1                    1             1   \n",
       "1                0                   0                    0             0   \n",
       "\n",
       "   and souvenirs  ants and  atmosphere in  barefoot people  big hindyou  \\\n",
       "0              0         0              0                0            1   \n",
       "1              1         1              1                1            0   \n",
       "\n",
       "   blessed holy  ...  wi seeh  wide in  will take  will visit  \\\n",
       "0             1  ...        1        0          0           0   \n",
       "1             0  ...        0        1          1           1   \n",
       "\n",
       "   worship barefoot  worship time  worst way  yes snack  younfriendly one  \\\n",
       "0                 0             0          1          0                 1   \n",
       "1                 1             1          0          1                 0   \n",
       "\n",
       "   yoyou blessed  \n",
       "0              1  \n",
       "1              0  \n",
       "\n",
       "[2 rows x 142 columns]"
      ]
     },
     "execution_count": 17,
     "metadata": {},
     "output_type": "execute_result"
    }
   ],
   "source": [
    "word_vectorizer = CountVectorizer(ngram_range=(2,2), analyzer='word')\n",
    "sparse_matrix = word_vectorizer.fit_transform([text,text2])\n",
    "df = pd.DataFrame(sparse_matrix.toarray())\n",
    "df.columns = word_vectorizer.get_feature_names()\n",
    "df.head()"
   ]
  },
  {
   "cell_type": "code",
   "execution_count": 18,
   "id": "462030c9",
   "metadata": {},
   "outputs": [
    {
     "name": "stderr",
     "output_type": "stream",
     "text": [
      "C:\\Users\\Vahid\\anaconda3\\lib\\site-packages\\sklearn\\utils\\deprecation.py:87: FutureWarning: Function get_feature_names is deprecated; get_feature_names is deprecated in 1.0 and will be removed in 1.2. Please use get_feature_names_out instead.\n",
      "  warnings.warn(msg, category=FutureWarning)\n"
     ]
    },
    {
     "data": {
      "text/html": [
       "<div>\n",
       "<style scoped>\n",
       "    .dataframe tbody tr th:only-of-type {\n",
       "        vertical-align: middle;\n",
       "    }\n",
       "\n",
       "    .dataframe tbody tr th {\n",
       "        vertical-align: top;\n",
       "    }\n",
       "\n",
       "    .dataframe thead th {\n",
       "        text-align: right;\n",
       "    }\n",
       "</style>\n",
       "<table border=\"1\" class=\"dataframe\">\n",
       "  <thead>\n",
       "    <tr style=\"text-align: right;\">\n",
       "      <th></th>\n",
       "      <th>frequency</th>\n",
       "    </tr>\n",
       "  </thead>\n",
       "  <tbody>\n",
       "    <tr>\n",
       "      <th>aboyout destroy</th>\n",
       "      <td>1</td>\n",
       "    </tr>\n",
       "    <tr>\n",
       "      <th>seeh leave</th>\n",
       "      <td>1</td>\n",
       "    </tr>\n",
       "    <tr>\n",
       "      <th>religioyous dress</th>\n",
       "      <td>1</td>\n",
       "    </tr>\n",
       "    <tr>\n",
       "      <th>rent indian</th>\n",
       "      <td>1</td>\n",
       "    </tr>\n",
       "    <tr>\n",
       "      <th>rental yes</th>\n",
       "      <td>1</td>\n",
       "    </tr>\n",
       "  </tbody>\n",
       "</table>\n",
       "</div>"
      ],
      "text/plain": [
       "                   frequency\n",
       "aboyout destroy            1\n",
       "seeh leave                 1\n",
       "religioyous dress          1\n",
       "rent indian                1\n",
       "rental yes                 1"
      ]
     },
     "execution_count": 18,
     "metadata": {},
     "output_type": "execute_result"
    }
   ],
   "source": [
    "frequencies = sum(sparse_matrix).toarray()[0]\n",
    "words_count = pd.DataFrame(frequencies, index=word_vectorizer.get_feature_names(), columns=['frequency'])\n",
    "words_count.sort_values(by='frequency',inplace=True,ascending=False)\n",
    "words_count.head()"
   ]
  },
  {
   "cell_type": "markdown",
   "id": "01ae1cc8",
   "metadata": {},
   "source": [
    "# TF - IDF:"
   ]
  },
  {
   "cell_type": "code",
   "execution_count": 19,
   "id": "99ff19b5",
   "metadata": {},
   "outputs": [
    {
     "name": "stderr",
     "output_type": "stream",
     "text": [
      "C:\\Users\\Vahid\\anaconda3\\lib\\site-packages\\sklearn\\utils\\deprecation.py:87: FutureWarning: Function get_feature_names is deprecated; get_feature_names is deprecated in 1.0 and will be removed in 1.2. Please use get_feature_names_out instead.\n",
      "  warnings.warn(msg, category=FutureWarning)\n"
     ]
    },
    {
     "data": {
      "text/html": [
       "<div>\n",
       "<style scoped>\n",
       "    .dataframe tbody tr th:only-of-type {\n",
       "        vertical-align: middle;\n",
       "    }\n",
       "\n",
       "    .dataframe tbody tr th {\n",
       "        vertical-align: top;\n",
       "    }\n",
       "\n",
       "    .dataframe thead th {\n",
       "        text-align: right;\n",
       "    }\n",
       "</style>\n",
       "<table border=\"1\" class=\"dataframe\">\n",
       "  <thead>\n",
       "    <tr style=\"text-align: right;\">\n",
       "      <th></th>\n",
       "      <th>aboyout</th>\n",
       "      <th>accept</th>\n",
       "      <th>almost</th>\n",
       "      <th>alowed</th>\n",
       "      <th>and</th>\n",
       "      <th>ants</th>\n",
       "      <th>atmosphere</th>\n",
       "      <th>barefoot</th>\n",
       "      <th>big</th>\n",
       "      <th>blessed</th>\n",
       "      <th>...</th>\n",
       "      <th>way</th>\n",
       "      <th>went</th>\n",
       "      <th>wi</th>\n",
       "      <th>wide</th>\n",
       "      <th>will</th>\n",
       "      <th>worship</th>\n",
       "      <th>worst</th>\n",
       "      <th>yes</th>\n",
       "      <th>younfriendly</th>\n",
       "      <th>yoyou</th>\n",
       "    </tr>\n",
       "  </thead>\n",
       "  <tbody>\n",
       "    <tr>\n",
       "      <th>0</th>\n",
       "      <td>0.098991</td>\n",
       "      <td>0.098991</td>\n",
       "      <td>0.098991</td>\n",
       "      <td>0.098991</td>\n",
       "      <td>0.000000</td>\n",
       "      <td>0.000000</td>\n",
       "      <td>0.000000</td>\n",
       "      <td>0.000000</td>\n",
       "      <td>0.098991</td>\n",
       "      <td>0.098991</td>\n",
       "      <td>...</td>\n",
       "      <td>0.140865</td>\n",
       "      <td>0.000000</td>\n",
       "      <td>0.098991</td>\n",
       "      <td>0.000000</td>\n",
       "      <td>0.000000</td>\n",
       "      <td>0.000000</td>\n",
       "      <td>0.098991</td>\n",
       "      <td>0.000000</td>\n",
       "      <td>0.098991</td>\n",
       "      <td>0.098991</td>\n",
       "    </tr>\n",
       "    <tr>\n",
       "      <th>1</th>\n",
       "      <td>0.000000</td>\n",
       "      <td>0.000000</td>\n",
       "      <td>0.000000</td>\n",
       "      <td>0.000000</td>\n",
       "      <td>0.094067</td>\n",
       "      <td>0.094067</td>\n",
       "      <td>0.094067</td>\n",
       "      <td>0.094067</td>\n",
       "      <td>0.000000</td>\n",
       "      <td>0.000000</td>\n",
       "      <td>...</td>\n",
       "      <td>0.066929</td>\n",
       "      <td>0.094067</td>\n",
       "      <td>0.000000</td>\n",
       "      <td>0.094067</td>\n",
       "      <td>0.188134</td>\n",
       "      <td>0.188134</td>\n",
       "      <td>0.000000</td>\n",
       "      <td>0.094067</td>\n",
       "      <td>0.000000</td>\n",
       "      <td>0.000000</td>\n",
       "    </tr>\n",
       "  </tbody>\n",
       "</table>\n",
       "<p>2 rows × 117 columns</p>\n",
       "</div>"
      ],
      "text/plain": [
       "    aboyout    accept    almost    alowed       and      ants  atmosphere  \\\n",
       "0  0.098991  0.098991  0.098991  0.098991  0.000000  0.000000    0.000000   \n",
       "1  0.000000  0.000000  0.000000  0.000000  0.094067  0.094067    0.094067   \n",
       "\n",
       "   barefoot       big   blessed  ...       way      went        wi      wide  \\\n",
       "0  0.000000  0.098991  0.098991  ...  0.140865  0.000000  0.098991  0.000000   \n",
       "1  0.094067  0.000000  0.000000  ...  0.066929  0.094067  0.000000  0.094067   \n",
       "\n",
       "       will   worship     worst       yes  younfriendly     yoyou  \n",
       "0  0.000000  0.000000  0.098991  0.000000      0.098991  0.098991  \n",
       "1  0.188134  0.188134  0.000000  0.094067      0.000000  0.000000  \n",
       "\n",
       "[2 rows x 117 columns]"
      ]
     },
     "execution_count": 19,
     "metadata": {},
     "output_type": "execute_result"
    }
   ],
   "source": [
    "v = TfidfVectorizer()\n",
    "sparse_matrix_tfidf = v.fit_transform([text,text2])\n",
    "pd.DataFrame(sparse_matrix_tfidf.toarray(), columns=v.get_feature_names())"
   ]
  },
  {
   "cell_type": "code",
   "execution_count": 20,
   "id": "164e425f",
   "metadata": {},
   "outputs": [
    {
     "name": "stderr",
     "output_type": "stream",
     "text": [
      "C:\\Users\\Vahid\\anaconda3\\lib\\site-packages\\sklearn\\utils\\deprecation.py:87: FutureWarning: Function get_feature_names is deprecated; get_feature_names is deprecated in 1.0 and will be removed in 1.2. Please use get_feature_names_out instead.\n",
      "  warnings.warn(msg, category=FutureWarning)\n"
     ]
    },
    {
     "data": {
      "text/html": [
       "<div>\n",
       "<style scoped>\n",
       "    .dataframe tbody tr th:only-of-type {\n",
       "        vertical-align: middle;\n",
       "    }\n",
       "\n",
       "    .dataframe tbody tr th {\n",
       "        vertical-align: top;\n",
       "    }\n",
       "\n",
       "    .dataframe thead th {\n",
       "        text-align: right;\n",
       "    }\n",
       "</style>\n",
       "<table border=\"1\" class=\"dataframe\">\n",
       "  <thead>\n",
       "    <tr style=\"text-align: right;\">\n",
       "      <th></th>\n",
       "      <th>TF-IDF Weight</th>\n",
       "    </tr>\n",
       "  </thead>\n",
       "  <tbody>\n",
       "    <tr>\n",
       "      <th>in</th>\n",
       "      <td>0.470334</td>\n",
       "    </tr>\n",
       "    <tr>\n",
       "      <th>is</th>\n",
       "      <td>0.376268</td>\n",
       "    </tr>\n",
       "    <tr>\n",
       "      <th>holy</th>\n",
       "      <td>0.296972</td>\n",
       "    </tr>\n",
       "    <tr>\n",
       "      <th>temple</th>\n",
       "      <td>0.296972</td>\n",
       "    </tr>\n",
       "    <tr>\n",
       "      <th>thing</th>\n",
       "      <td>0.296972</td>\n",
       "    </tr>\n",
       "    <tr>\n",
       "      <th>...</th>\n",
       "      <td>...</td>\n",
       "    </tr>\n",
       "    <tr>\n",
       "      <th>some</th>\n",
       "      <td>0.094067</td>\n",
       "    </tr>\n",
       "    <tr>\n",
       "      <th>has</th>\n",
       "      <td>0.094067</td>\n",
       "    </tr>\n",
       "    <tr>\n",
       "      <th>souvenirs</th>\n",
       "      <td>0.094067</td>\n",
       "    </tr>\n",
       "    <tr>\n",
       "      <th>cloth</th>\n",
       "      <td>0.094067</td>\n",
       "    </tr>\n",
       "    <tr>\n",
       "      <th>less</th>\n",
       "      <td>0.094067</td>\n",
       "    </tr>\n",
       "  </tbody>\n",
       "</table>\n",
       "<p>117 rows × 1 columns</p>\n",
       "</div>"
      ],
      "text/plain": [
       "           TF-IDF Weight\n",
       "in              0.470334\n",
       "is              0.376268\n",
       "holy            0.296972\n",
       "temple          0.296972\n",
       "thing           0.296972\n",
       "...                  ...\n",
       "some            0.094067\n",
       "has             0.094067\n",
       "souvenirs       0.094067\n",
       "cloth           0.094067\n",
       "less            0.094067\n",
       "\n",
       "[117 rows x 1 columns]"
      ]
     },
     "execution_count": 20,
     "metadata": {},
     "output_type": "execute_result"
    }
   ],
   "source": [
    "tfidf_weight = sum(sparse_matrix_tfidf).toarray()[0]\n",
    "\n",
    "words_tfidf = pd.DataFrame(tfidf_weight, index=v.get_feature_names(), columns=['TF-IDF Weight'])\n",
    "words_tfidf.sort_values(by='TF-IDF Weight',inplace=True,ascending=False)\n",
    "words_tfidf"
   ]
  },
  {
   "cell_type": "markdown",
   "id": "d4c12326",
   "metadata": {},
   "source": [
    "# Chi-Squre Test "
   ]
  },
  {
   "cell_type": "code",
   "execution_count": 21,
   "id": "3a65f4fd",
   "metadata": {},
   "outputs": [
    {
     "data": {
      "text/html": [
       "<div>\n",
       "<style scoped>\n",
       "    .dataframe tbody tr th:only-of-type {\n",
       "        vertical-align: middle;\n",
       "    }\n",
       "\n",
       "    .dataframe tbody tr th {\n",
       "        vertical-align: top;\n",
       "    }\n",
       "\n",
       "    .dataframe thead th {\n",
       "        text-align: right;\n",
       "    }\n",
       "</style>\n",
       "<table border=\"1\" class=\"dataframe\">\n",
       "  <thead>\n",
       "    <tr style=\"text-align: right;\">\n",
       "      <th></th>\n",
       "      <th>aboyout</th>\n",
       "      <th>accept</th>\n",
       "      <th>almost</th>\n",
       "      <th>alowed</th>\n",
       "      <th>and</th>\n",
       "      <th>ants</th>\n",
       "      <th>atmosphere</th>\n",
       "      <th>barefoot</th>\n",
       "      <th>big</th>\n",
       "      <th>blessed</th>\n",
       "      <th>...</th>\n",
       "      <th>went</th>\n",
       "      <th>wi</th>\n",
       "      <th>wide</th>\n",
       "      <th>will</th>\n",
       "      <th>worship</th>\n",
       "      <th>worst</th>\n",
       "      <th>yes</th>\n",
       "      <th>younfriendly</th>\n",
       "      <th>yoyou</th>\n",
       "      <th>feedback</th>\n",
       "    </tr>\n",
       "  </thead>\n",
       "  <tbody>\n",
       "    <tr>\n",
       "      <th>0</th>\n",
       "      <td>1</td>\n",
       "      <td>1</td>\n",
       "      <td>1</td>\n",
       "      <td>1</td>\n",
       "      <td>0</td>\n",
       "      <td>0</td>\n",
       "      <td>0</td>\n",
       "      <td>0</td>\n",
       "      <td>1</td>\n",
       "      <td>1</td>\n",
       "      <td>...</td>\n",
       "      <td>0</td>\n",
       "      <td>1</td>\n",
       "      <td>0</td>\n",
       "      <td>0</td>\n",
       "      <td>0</td>\n",
       "      <td>1</td>\n",
       "      <td>0</td>\n",
       "      <td>1</td>\n",
       "      <td>1</td>\n",
       "      <td>positive</td>\n",
       "    </tr>\n",
       "    <tr>\n",
       "      <th>1</th>\n",
       "      <td>0</td>\n",
       "      <td>0</td>\n",
       "      <td>0</td>\n",
       "      <td>0</td>\n",
       "      <td>1</td>\n",
       "      <td>1</td>\n",
       "      <td>1</td>\n",
       "      <td>1</td>\n",
       "      <td>0</td>\n",
       "      <td>0</td>\n",
       "      <td>...</td>\n",
       "      <td>1</td>\n",
       "      <td>0</td>\n",
       "      <td>1</td>\n",
       "      <td>1</td>\n",
       "      <td>1</td>\n",
       "      <td>0</td>\n",
       "      <td>1</td>\n",
       "      <td>0</td>\n",
       "      <td>0</td>\n",
       "      <td>negative</td>\n",
       "    </tr>\n",
       "  </tbody>\n",
       "</table>\n",
       "<p>2 rows × 118 columns</p>\n",
       "</div>"
      ],
      "text/plain": [
       "   aboyout  accept  almost  alowed  and  ants  atmosphere  barefoot  big  \\\n",
       "0        1       1       1       1    0     0           0         0    1   \n",
       "1        0       0       0       0    1     1           1         1    0   \n",
       "\n",
       "   blessed  ...  went  wi  wide  will  worship  worst  yes  younfriendly  \\\n",
       "0        1  ...     0   1     0     0        0      1    0             1   \n",
       "1        0  ...     1   0     1     1        1      0    1             0   \n",
       "\n",
       "   yoyou  feedback  \n",
       "0      1  positive  \n",
       "1      0  negative  \n",
       "\n",
       "[2 rows x 118 columns]"
      ]
     },
     "execution_count": 21,
     "metadata": {},
     "output_type": "execute_result"
    }
   ],
   "source": [
    "word_vectorizer = CountVectorizer(ngram_range=(1,1), analyzer='word')\n",
    "sparse_matrix = word_vectorizer.fit_transform([text,text2])\n",
    "X = np.where(sparse_matrix.toarray()>=1,1,0)\n",
    "X_chs = pd.DataFrame(data = X ,columns=word_vectorizer.get_feature_names_out())\n",
    "X_chs['feedback']=['positive','negative']\n",
    "X_chs.head()"
   ]
  },
  {
   "cell_type": "code",
   "execution_count": 22,
   "id": "dbf99f13",
   "metadata": {},
   "outputs": [],
   "source": [
    "y = X_chs['feedback']"
   ]
  },
  {
   "cell_type": "code",
   "execution_count": 23,
   "id": "1b38c120",
   "metadata": {},
   "outputs": [],
   "source": [
    "crosstab, test_results, expected = rp.crosstab(X_chs['big'].astype(object), \n",
    "                                               y,\n",
    "                                               test= \"chi-square\",\n",
    "                                               expected_freqs= True)\n"
   ]
  },
  {
   "cell_type": "code",
   "execution_count": 24,
   "id": "c5498d37",
   "metadata": {},
   "outputs": [
    {
     "data": {
      "text/html": [
       "<div>\n",
       "<style scoped>\n",
       "    .dataframe tbody tr th:only-of-type {\n",
       "        vertical-align: middle;\n",
       "    }\n",
       "\n",
       "    .dataframe tbody tr th {\n",
       "        vertical-align: top;\n",
       "    }\n",
       "\n",
       "    .dataframe thead tr th {\n",
       "        text-align: left;\n",
       "    }\n",
       "\n",
       "    .dataframe thead tr:last-of-type th {\n",
       "        text-align: right;\n",
       "    }\n",
       "</style>\n",
       "<table border=\"1\" class=\"dataframe\">\n",
       "  <thead>\n",
       "    <tr>\n",
       "      <th></th>\n",
       "      <th colspan=\"3\" halign=\"left\">feedback</th>\n",
       "    </tr>\n",
       "    <tr>\n",
       "      <th>feedback</th>\n",
       "      <th>negative</th>\n",
       "      <th>positive</th>\n",
       "      <th>All</th>\n",
       "    </tr>\n",
       "    <tr>\n",
       "      <th>big</th>\n",
       "      <th></th>\n",
       "      <th></th>\n",
       "      <th></th>\n",
       "    </tr>\n",
       "  </thead>\n",
       "  <tbody>\n",
       "    <tr>\n",
       "      <th>0</th>\n",
       "      <td>1</td>\n",
       "      <td>0</td>\n",
       "      <td>1</td>\n",
       "    </tr>\n",
       "    <tr>\n",
       "      <th>1</th>\n",
       "      <td>0</td>\n",
       "      <td>1</td>\n",
       "      <td>1</td>\n",
       "    </tr>\n",
       "    <tr>\n",
       "      <th>All</th>\n",
       "      <td>1</td>\n",
       "      <td>1</td>\n",
       "      <td>2</td>\n",
       "    </tr>\n",
       "  </tbody>\n",
       "</table>\n",
       "</div>"
      ],
      "text/plain": [
       "         feedback             \n",
       "feedback negative positive All\n",
       "big                           \n",
       "0               1        0   1\n",
       "1               0        1   1\n",
       "All             1        1   2"
      ]
     },
     "execution_count": 24,
     "metadata": {},
     "output_type": "execute_result"
    }
   ],
   "source": [
    "crosstab"
   ]
  },
  {
   "cell_type": "code",
   "execution_count": 25,
   "id": "d698c1f6",
   "metadata": {},
   "outputs": [
    {
     "data": {
      "text/html": [
       "<div>\n",
       "<style scoped>\n",
       "    .dataframe tbody tr th:only-of-type {\n",
       "        vertical-align: middle;\n",
       "    }\n",
       "\n",
       "    .dataframe tbody tr th {\n",
       "        vertical-align: top;\n",
       "    }\n",
       "\n",
       "    .dataframe thead tr th {\n",
       "        text-align: left;\n",
       "    }\n",
       "\n",
       "    .dataframe thead tr:last-of-type th {\n",
       "        text-align: right;\n",
       "    }\n",
       "</style>\n",
       "<table border=\"1\" class=\"dataframe\">\n",
       "  <thead>\n",
       "    <tr>\n",
       "      <th></th>\n",
       "      <th colspan=\"2\" halign=\"left\">feedback</th>\n",
       "    </tr>\n",
       "    <tr>\n",
       "      <th>feedback</th>\n",
       "      <th>negative</th>\n",
       "      <th>positive</th>\n",
       "    </tr>\n",
       "    <tr>\n",
       "      <th>big</th>\n",
       "      <th></th>\n",
       "      <th></th>\n",
       "    </tr>\n",
       "  </thead>\n",
       "  <tbody>\n",
       "    <tr>\n",
       "      <th>0</th>\n",
       "      <td>0.5</td>\n",
       "      <td>0.5</td>\n",
       "    </tr>\n",
       "    <tr>\n",
       "      <th>1</th>\n",
       "      <td>0.5</td>\n",
       "      <td>0.5</td>\n",
       "    </tr>\n",
       "  </tbody>\n",
       "</table>\n",
       "</div>"
      ],
      "text/plain": [
       "         feedback         \n",
       "feedback negative positive\n",
       "big                       \n",
       "0             0.5      0.5\n",
       "1             0.5      0.5"
      ]
     },
     "execution_count": 25,
     "metadata": {},
     "output_type": "execute_result"
    }
   ],
   "source": [
    "expected"
   ]
  },
  {
   "cell_type": "code",
   "execution_count": 26,
   "id": "4bbc7f02",
   "metadata": {},
   "outputs": [
    {
     "data": {
      "text/html": [
       "<div>\n",
       "<style scoped>\n",
       "    .dataframe tbody tr th:only-of-type {\n",
       "        vertical-align: middle;\n",
       "    }\n",
       "\n",
       "    .dataframe tbody tr th {\n",
       "        vertical-align: top;\n",
       "    }\n",
       "\n",
       "    .dataframe thead th {\n",
       "        text-align: right;\n",
       "    }\n",
       "</style>\n",
       "<table border=\"1\" class=\"dataframe\">\n",
       "  <thead>\n",
       "    <tr style=\"text-align: right;\">\n",
       "      <th></th>\n",
       "      <th>Chi-square test</th>\n",
       "      <th>results</th>\n",
       "    </tr>\n",
       "  </thead>\n",
       "  <tbody>\n",
       "    <tr>\n",
       "      <th>0</th>\n",
       "      <td>Pearson Chi-square ( 1.0) =</td>\n",
       "      <td>2.0000</td>\n",
       "    </tr>\n",
       "    <tr>\n",
       "      <th>1</th>\n",
       "      <td>p-value =</td>\n",
       "      <td>0.1573</td>\n",
       "    </tr>\n",
       "    <tr>\n",
       "      <th>2</th>\n",
       "      <td>Cramer's phi =</td>\n",
       "      <td>1.0000</td>\n",
       "    </tr>\n",
       "  </tbody>\n",
       "</table>\n",
       "</div>"
      ],
      "text/plain": [
       "                Chi-square test  results\n",
       "0  Pearson Chi-square ( 1.0) =    2.0000\n",
       "1                    p-value =    0.1573\n",
       "2               Cramer's phi =    1.0000"
      ]
     },
     "execution_count": 26,
     "metadata": {},
     "output_type": "execute_result"
    }
   ],
   "source": [
    "test_results"
   ]
  }
 ],
 "metadata": {
  "kernelspec": {
   "display_name": "Python 3 (ipykernel)",
   "language": "python",
   "name": "python3"
  },
  "language_info": {
   "codemirror_mode": {
    "name": "ipython",
    "version": 3
   },
   "file_extension": ".py",
   "mimetype": "text/x-python",
   "name": "python",
   "nbconvert_exporter": "python",
   "pygments_lexer": "ipython3",
   "version": "3.9.12"
  }
 },
 "nbformat": 4,
 "nbformat_minor": 5
}
