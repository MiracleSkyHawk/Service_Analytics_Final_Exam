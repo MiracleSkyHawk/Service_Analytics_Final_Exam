{
 "cells": [
  {
   "cell_type": "code",
   "execution_count": 1,
   "id": "cf4d70a6",
   "metadata": {},
   "outputs": [],
   "source": [
    "import numpy as np\n",
    "import scipy.stats as stats\n",
    "import matplotlib.pyplot as plt"
   ]
  },
  {
   "cell_type": "code",
   "execution_count": 37,
   "id": "f2b30927",
   "metadata": {},
   "outputs": [],
   "source": [
    "x1 = np.array([540,670,1000,960,1200,4650,4200])\n",
    "x2 = np.array([900,1300,4500,5000,6100,7400,7500])"
   ]
  },
  {
   "cell_type": "markdown",
   "id": "8899bfcd",
   "metadata": {},
   "source": [
    "## Perform the Mann-Whitney U test"
   ]
  },
  {
   "cell_type": "markdown",
   "id": "20f3b57a",
   "metadata": {},
   "source": [
    "## 1. Manuall Calculation of u-test and p-value"
   ]
  },
  {
   "cell_type": "code",
   "execution_count": 134,
   "id": "d4978f37",
   "metadata": {},
   "outputs": [
    {
     "name": "stdout",
     "output_type": "stream",
     "text": [
      "U-Statistics is: 8.000\n"
     ]
    }
   ],
   "source": [
    "# Combine the two samples\n",
    "combined_sample = np.concatenate((x1, x2))\n",
    "\n",
    "# Assign a rank to each value in the combined sample\n",
    "ranks = stats.rankdata(combined_sample)\n",
    "\n",
    "# Split the ranks into two groups based on the original samples\n",
    "ranks1 = ranks[:len(x1)]\n",
    "ranks2 = ranks[len(x1):]\n",
    "\n",
    "# Calculate the U statistic for the first sample\n",
    "U1 = np.sum(ranks1) - (len(x1) * (len(x1) + 1)) / 2\n",
    "\n",
    "# Calculate the U statistic for the second sample\n",
    "U2 = np.sum(ranks2) - (len(x2) * (len(x2) + 1)) / 2\n",
    "\n",
    "# The smaller of the two U statistics is used as the test statistic for the Mann-Whitney U test\n",
    "U = min(U1, U2)\n",
    "\n",
    "print('U-Statistics is: %.3f' %(U))"
   ]
  },
  {
   "cell_type": "markdown",
   "id": "14a9d543",
   "metadata": {},
   "source": [
    "## 2. Calling Python library to estiamte p-value and u-statistics for two samples"
   ]
  },
  {
   "cell_type": "code",
   "execution_count": 135,
   "id": "7754b0fc",
   "metadata": {},
   "outputs": [
    {
     "name": "stdout",
     "output_type": "stream",
     "text": [
      "U-Statistics is: 8.000, P-value=0.019\n"
     ]
    }
   ],
   "source": [
    "u_statistic, p_value = stats.mannwhitneyu(x1, x2, alternative='less')\n",
    "print('U-Statistics is: %.3f, P-value=%.3f' %(u_statistic,p_value))"
   ]
  },
  {
   "cell_type": "markdown",
   "id": "109ad47a",
   "metadata": {},
   "source": [
    "# t-Test"
   ]
  },
  {
   "cell_type": "markdown",
   "id": "8832f94a",
   "metadata": {},
   "source": [
    "## 1. Calculate t-test manually"
   ]
  },
  {
   "cell_type": "code",
   "execution_count": 136,
   "id": "b0d640d4",
   "metadata": {},
   "outputs": [
    {
     "name": "stdout",
     "output_type": "stream",
     "text": [
      "t-Statistics is: -2.298\n"
     ]
    }
   ],
   "source": [
    "# Calculate the sample size and mean for each sample\n",
    "n1 = len(x1)\n",
    "n2 = len(x2)\n",
    "mean1 = np.mean(x1)\n",
    "mean2 = np.mean(x2)\n",
    "\n",
    "# Calculate the sample variance for each sample\n",
    "var1 = np.var(x1, ddof=1)\n",
    "var2 = np.var(x2, ddof=1)\n",
    "\n",
    "# Calculate the pooled variance\n",
    "pooled_var = ((n1 - 1) * var1 + (n2 - 1) * var2) / (n1 + n2 - 2)\n",
    "\n",
    "# Calculate the pooled standard deviation\n",
    "pooled_std = np.sqrt(pooled_var)\n",
    "\n",
    "t = (mean1-mean2)/(pooled_std*np.sqrt(1/n1+1/n2))\n",
    "\n",
    "print('t-Statistics is: %.3f' %(t))"
   ]
  },
  {
   "cell_type": "markdown",
   "id": "73b58e7c",
   "metadata": {},
   "source": [
    "### p-value given t-test "
   ]
  },
  {
   "cell_type": "code",
   "execution_count": 138,
   "id": "06c22958",
   "metadata": {},
   "outputs": [
    {
     "name": "stdout",
     "output_type": "stream",
     "text": [
      "p-value is: 0.020\n"
     ]
    }
   ],
   "source": [
    "p_value = stats.t.sf(t, df=n1+n2-2) \n",
    "print('p-value is: %.3f' %(1-p_value))"
   ]
  },
  {
   "cell_type": "markdown",
   "id": "6aff486c",
   "metadata": {},
   "source": [
    "### Critical Value for t-test given alpha and degree of freedom"
   ]
  },
  {
   "cell_type": "code",
   "execution_count": 139,
   "id": "53a25f62",
   "metadata": {},
   "outputs": [
    {
     "name": "stdout",
     "output_type": "stream",
     "text": [
      "Critical value is: -1.782\n"
     ]
    }
   ],
   "source": [
    "#t_{alpha, df}\n",
    "critical_value =stats.t.ppf(0.05, n1+n2-2)\n",
    "print('Critical value is: %.3f' %(critical_value))"
   ]
  },
  {
   "cell_type": "markdown",
   "id": "547d87b0",
   "metadata": {},
   "source": [
    "## 2. Calling Python library to estiamte p-value and t-statistics for two samples"
   ]
  },
  {
   "cell_type": "code",
   "execution_count": 132,
   "id": "7e0fec5b",
   "metadata": {},
   "outputs": [
    {
     "name": "stdout",
     "output_type": "stream",
     "text": [
      "t-Statistics is: -2.298, P-value=0.020\n"
     ]
    }
   ],
   "source": [
    "statistic,p_value = stats.ttest_ind(x1,x2, alternative='less')\n",
    "print('t-Statistics is: %.3f, P-value=%.3f' %(statistic,p_value))"
   ]
  }
 ],
 "metadata": {
  "kernelspec": {
   "display_name": "Python 3.6",
   "language": "python",
   "name": "py36"
  },
  "language_info": {
   "codemirror_mode": {
    "name": "ipython",
    "version": 3
   },
   "file_extension": ".py",
   "mimetype": "text/x-python",
   "name": "python",
   "nbconvert_exporter": "python",
   "pygments_lexer": "ipython3",
   "version": "3.9.12"
  }
 },
 "nbformat": 4,
 "nbformat_minor": 5
}
