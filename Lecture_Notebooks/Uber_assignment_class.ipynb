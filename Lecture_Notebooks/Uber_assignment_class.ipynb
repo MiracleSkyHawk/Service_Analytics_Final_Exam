{
 "cells": [
  {
   "cell_type": "code",
   "execution_count": 1,
   "id": "8dbcf3d9",
   "metadata": {},
   "outputs": [
    {
     "data": {
      "text/plain": [
       "'C:\\\\Users\\\\Vahid\\\\OneDrive - University of Toronto\\\\MMA - 2022 -\\\\Jupyter files'"
      ]
     },
     "execution_count": 1,
     "metadata": {},
     "output_type": "execute_result"
    }
   ],
   "source": [
    "import pandas as pd\n",
    "from matplotlib import pyplot as plt\n",
    "import seaborn as sns\n",
    "import warnings\n",
    "from scipy.stats import t,ttest_ind,ks_2samp,shapiro,anderson \n",
    "from statsmodels.stats.weightstats import ztest\n",
    "import statsmodels.api as sm\n",
    "from scipy.stats import levene,bartlett,shapiro\n",
    "import statsmodels.formula.api as smf\n",
    "\n",
    "import scipy.stats as stats\n",
    "\n",
    "warnings.filterwarnings(\"ignore\")\n",
    "import os\n",
    "os.getcwd()"
   ]
  },
  {
   "cell_type": "markdown",
   "id": "75215bd8",
   "metadata": {},
   "source": [
    "# Reading File"
   ]
  },
  {
   "cell_type": "code",
   "execution_count": 2,
   "id": "bf51f8de",
   "metadata": {},
   "outputs": [],
   "source": [
    "#path = '/Users/Vahid/Library/CloudStorage/OneDrive-UniversityofToronto/MMA - 2022 -/Jupyter files/'\n",
    "path = \"C:/Users/Vahid/OneDrive - University of Toronto/MMA - 2022 -/Jupyter files/\"\n",
    "df_raw = pd.read_excel(path+'Data/UBER.xlsx', sheet_name ='Switchbacks' )"
   ]
  },
  {
   "cell_type": "code",
   "execution_count": 3,
   "id": "62497f6d",
   "metadata": {},
   "outputs": [
    {
     "data": {
      "text/html": [
       "<div>\n",
       "<style scoped>\n",
       "    .dataframe tbody tr th:only-of-type {\n",
       "        vertical-align: middle;\n",
       "    }\n",
       "\n",
       "    .dataframe tbody tr th {\n",
       "        vertical-align: top;\n",
       "    }\n",
       "\n",
       "    .dataframe thead th {\n",
       "        text-align: right;\n",
       "    }\n",
       "</style>\n",
       "<table border=\"1\" class=\"dataframe\">\n",
       "  <thead>\n",
       "    <tr style=\"text-align: right;\">\n",
       "      <th></th>\n",
       "      <th>city_id</th>\n",
       "      <th>period_start</th>\n",
       "      <th>wait_time</th>\n",
       "      <th>treat</th>\n",
       "      <th>commute</th>\n",
       "      <th>trips_pool</th>\n",
       "      <th>trips_express</th>\n",
       "      <th>rider_cancellations</th>\n",
       "      <th>total_driver_payout</th>\n",
       "      <th>total_matches</th>\n",
       "      <th>total_double_matches</th>\n",
       "    </tr>\n",
       "  </thead>\n",
       "  <tbody>\n",
       "    <tr>\n",
       "      <th>0</th>\n",
       "      <td>Boston</td>\n",
       "      <td>2018-02-19 07:00:00</td>\n",
       "      <td>2 mins</td>\n",
       "      <td>False</td>\n",
       "      <td>True</td>\n",
       "      <td>1415</td>\n",
       "      <td>3245</td>\n",
       "      <td>256</td>\n",
       "      <td>34458.411634</td>\n",
       "      <td>3372</td>\n",
       "      <td>1476</td>\n",
       "    </tr>\n",
       "    <tr>\n",
       "      <th>1</th>\n",
       "      <td>Boston</td>\n",
       "      <td>2018-02-19 09:40:00</td>\n",
       "      <td>5 mins</td>\n",
       "      <td>True</td>\n",
       "      <td>False</td>\n",
       "      <td>1461</td>\n",
       "      <td>2363</td>\n",
       "      <td>203</td>\n",
       "      <td>29764.349821</td>\n",
       "      <td>2288</td>\n",
       "      <td>1275</td>\n",
       "    </tr>\n",
       "    <tr>\n",
       "      <th>2</th>\n",
       "      <td>Boston</td>\n",
       "      <td>2018-02-19 12:20:00</td>\n",
       "      <td>2 mins</td>\n",
       "      <td>False</td>\n",
       "      <td>False</td>\n",
       "      <td>1362</td>\n",
       "      <td>2184</td>\n",
       "      <td>118</td>\n",
       "      <td>27437.367363</td>\n",
       "      <td>2283</td>\n",
       "      <td>962</td>\n",
       "    </tr>\n",
       "    <tr>\n",
       "      <th>3</th>\n",
       "      <td>Boston</td>\n",
       "      <td>2018-02-19 15:00:00</td>\n",
       "      <td>5 mins</td>\n",
       "      <td>True</td>\n",
       "      <td>True</td>\n",
       "      <td>1984</td>\n",
       "      <td>3584</td>\n",
       "      <td>355</td>\n",
       "      <td>44995.452993</td>\n",
       "      <td>4035</td>\n",
       "      <td>2021</td>\n",
       "    </tr>\n",
       "    <tr>\n",
       "      <th>4</th>\n",
       "      <td>Boston</td>\n",
       "      <td>2018-02-19 17:40:00</td>\n",
       "      <td>2 mins</td>\n",
       "      <td>False</td>\n",
       "      <td>False</td>\n",
       "      <td>1371</td>\n",
       "      <td>2580</td>\n",
       "      <td>181</td>\n",
       "      <td>27583.955295</td>\n",
       "      <td>2200</td>\n",
       "      <td>979</td>\n",
       "    </tr>\n",
       "  </tbody>\n",
       "</table>\n",
       "</div>"
      ],
      "text/plain": [
       "  city_id        period_start wait_time  treat  commute  trips_pool  \\\n",
       "0  Boston 2018-02-19 07:00:00    2 mins  False     True        1415   \n",
       "1  Boston 2018-02-19 09:40:00    5 mins   True    False        1461   \n",
       "2  Boston 2018-02-19 12:20:00    2 mins  False    False        1362   \n",
       "3  Boston 2018-02-19 15:00:00    5 mins   True     True        1984   \n",
       "4  Boston 2018-02-19 17:40:00    2 mins  False    False        1371   \n",
       "\n",
       "   trips_express  rider_cancellations  total_driver_payout  total_matches  \\\n",
       "0           3245                  256         34458.411634           3372   \n",
       "1           2363                  203         29764.349821           2288   \n",
       "2           2184                  118         27437.367363           2283   \n",
       "3           3584                  355         44995.452993           4035   \n",
       "4           2580                  181         27583.955295           2200   \n",
       "\n",
       "   total_double_matches  \n",
       "0                  1476  \n",
       "1                  1275  \n",
       "2                   962  \n",
       "3                  2021  \n",
       "4                   979  "
      ]
     },
     "execution_count": 3,
     "metadata": {},
     "output_type": "execute_result"
    }
   ],
   "source": [
    "df_raw.head()"
   ]
  },
  {
   "cell_type": "code",
   "execution_count": 4,
   "id": "de1060af",
   "metadata": {},
   "outputs": [],
   "source": [
    "df_raw['total_ride'] = df_raw['trips_express'] + df_raw['trips_pool']\n",
    "df_raw['cost_per_ride'] = df_raw['total_driver_payout']/df_raw['total_ride']\n",
    "df_raw['match_rate'] = df_raw['total_matches']/df_raw['total_ride']\n",
    "df_raw['double_matches_rate'] = df_raw['total_double_matches']/df_raw['total_ride']"
   ]
  },
  {
   "cell_type": "markdown",
   "id": "80ac263d",
   "metadata": {},
   "source": [
    "## Question 1: What is the difference between ride cancellations and cost per trip of 2 min wait time against a 5min wait time? Is the difference statistically significant at a 5% confidence level? Write one-sided hypothesis tests and use parametric test statistics (you don’t need to validate the assumption of the parametric approach).\n"
   ]
  },
  {
   "cell_type": "markdown",
   "id": "67c2f756",
   "metadata": {},
   "source": [
    "# One-Sided Hypothesis Test"
   ]
  },
  {
   "cell_type": "markdown",
   "id": "b231a6f4",
   "metadata": {},
   "source": [
    "### Summary Table"
   ]
  },
  {
   "cell_type": "code",
   "execution_count": 5,
   "id": "19cb555a",
   "metadata": {},
   "outputs": [
    {
     "data": {
      "text/html": [
       "<div>\n",
       "<style scoped>\n",
       "    .dataframe tbody tr th:only-of-type {\n",
       "        vertical-align: middle;\n",
       "    }\n",
       "\n",
       "    .dataframe tbody tr th {\n",
       "        vertical-align: top;\n",
       "    }\n",
       "\n",
       "    .dataframe thead th {\n",
       "        text-align: right;\n",
       "    }\n",
       "</style>\n",
       "<table border=\"1\" class=\"dataframe\">\n",
       "  <thead>\n",
       "    <tr style=\"text-align: right;\">\n",
       "      <th>wait_time</th>\n",
       "      <th>2 mins</th>\n",
       "      <th>5 mins</th>\n",
       "      <th>diff (5mins - 2mins)</th>\n",
       "    </tr>\n",
       "  </thead>\n",
       "  <tbody>\n",
       "    <tr>\n",
       "      <th>rider_cancellations</th>\n",
       "      <td>165.349206</td>\n",
       "      <td>190.126984</td>\n",
       "      <td>24.777778</td>\n",
       "    </tr>\n",
       "    <tr>\n",
       "      <th>trips_pool</th>\n",
       "      <td>1355.317460</td>\n",
       "      <td>1460.698413</td>\n",
       "      <td>105.380952</td>\n",
       "    </tr>\n",
       "    <tr>\n",
       "      <th>trips_express</th>\n",
       "      <td>2611.666667</td>\n",
       "      <td>2419.380952</td>\n",
       "      <td>-192.285714</td>\n",
       "    </tr>\n",
       "    <tr>\n",
       "      <th>total_ride</th>\n",
       "      <td>3966.984127</td>\n",
       "      <td>3880.079365</td>\n",
       "      <td>-86.904762</td>\n",
       "    </tr>\n",
       "    <tr>\n",
       "      <th>cost_per_ride</th>\n",
       "      <td>7.364866</td>\n",
       "      <td>6.987458</td>\n",
       "      <td>-0.377409</td>\n",
       "    </tr>\n",
       "    <tr>\n",
       "      <th>match_rate</th>\n",
       "      <td>0.659115</td>\n",
       "      <td>0.624274</td>\n",
       "      <td>-0.034842</td>\n",
       "    </tr>\n",
       "    <tr>\n",
       "      <th>double_matches_rate</th>\n",
       "      <td>0.321761</td>\n",
       "      <td>0.348986</td>\n",
       "      <td>0.027224</td>\n",
       "    </tr>\n",
       "  </tbody>\n",
       "</table>\n",
       "</div>"
      ],
      "text/plain": [
       "wait_time                 2 mins       5 mins  diff (5mins - 2mins)\n",
       "rider_cancellations   165.349206   190.126984             24.777778\n",
       "trips_pool           1355.317460  1460.698413            105.380952\n",
       "trips_express        2611.666667  2419.380952           -192.285714\n",
       "total_ride           3966.984127  3880.079365            -86.904762\n",
       "cost_per_ride           7.364866     6.987458             -0.377409\n",
       "match_rate              0.659115     0.624274             -0.034842\n",
       "double_matches_rate     0.321761     0.348986              0.027224"
      ]
     },
     "execution_count": 5,
     "metadata": {},
     "output_type": "execute_result"
    }
   ],
   "source": [
    "summary = df_raw.groupby(['wait_time'])['rider_cancellations','trips_pool','trips_express','total_ride','cost_per_ride','match_rate','double_matches_rate'].agg('mean').T\n",
    "summary['diff (5mins - 2mins)'] = summary['5 mins'] - summary['2 mins']\n",
    "summary"
   ]
  },
  {
   "cell_type": "markdown",
   "id": "12b92672",
   "metadata": {},
   "source": [
    "## Ride Cancellation"
   ]
  },
  {
   "cell_type": "code",
   "execution_count": 6,
   "id": "f202add7",
   "metadata": {},
   "outputs": [
    {
     "name": "stdout",
     "output_type": "stream",
     "text": [
      "Statistics = -2.764, P-value=0.003\n"
     ]
    }
   ],
   "source": [
    "statistic,p_value =  ttest_ind(df_raw[df_raw['wait_time']=='2 mins']['rider_cancellations'], df_raw[df_raw['wait_time']=='5 mins']['rider_cancellations'], alternative='less')\n",
    "print('Statistics = %.3f, P-value=%.3f' %(statistic,p_value))\n"
   ]
  },
  {
   "cell_type": "markdown",
   "id": "2c830032",
   "metadata": {},
   "source": [
    "# Cost Per Rider"
   ]
  },
  {
   "cell_type": "code",
   "execution_count": 7,
   "id": "0f72833f",
   "metadata": {},
   "outputs": [
    {
     "name": "stdout",
     "output_type": "stream",
     "text": [
      "Statistics = 3.462, P-value=0.000\n"
     ]
    }
   ],
   "source": [
    "statistic,p_value =  ttest_ind(df_raw[df_raw['wait_time']=='2 mins']['cost_per_ride'], df_raw[df_raw['wait_time']=='5 mins']['cost_per_ride'], alternative='greater')\n",
    "print('Statistics = %.3f, P-value=%.3f' %(statistic,p_value))\n"
   ]
  },
  {
   "cell_type": "markdown",
   "id": "e8fd3e4c",
   "metadata": {},
   "source": [
    "## Question 2: Does the total number of express pool trips,  ride cancellations, and cost per trip change for commuting versus non-commuting hours at a 5% level of confidence? Use a one-sided hypothesis test to confirm your findings (Use only non-parametric test statistics)"
   ]
  },
  {
   "cell_type": "markdown",
   "id": "d6551b90",
   "metadata": {},
   "source": [
    "### Commute Hours"
   ]
  },
  {
   "cell_type": "code",
   "execution_count": 8,
   "id": "b47ced19",
   "metadata": {},
   "outputs": [],
   "source": [
    "df_commute = df_raw[df_raw['commute']==True]"
   ]
  },
  {
   "cell_type": "code",
   "execution_count": 13,
   "id": "858ac390",
   "metadata": {},
   "outputs": [
    {
     "data": {
      "text/html": [
       "<div>\n",
       "<style scoped>\n",
       "    .dataframe tbody tr th:only-of-type {\n",
       "        vertical-align: middle;\n",
       "    }\n",
       "\n",
       "    .dataframe tbody tr th {\n",
       "        vertical-align: top;\n",
       "    }\n",
       "\n",
       "    .dataframe thead th {\n",
       "        text-align: right;\n",
       "    }\n",
       "</style>\n",
       "<table border=\"1\" class=\"dataframe\">\n",
       "  <thead>\n",
       "    <tr style=\"text-align: right;\">\n",
       "      <th>wait_time</th>\n",
       "      <th>2 mins</th>\n",
       "      <th>5 mins</th>\n",
       "      <th>diff (5mins - 2mins)</th>\n",
       "    </tr>\n",
       "  </thead>\n",
       "  <tbody>\n",
       "    <tr>\n",
       "      <th>rider_cancellations</th>\n",
       "      <td>240.50</td>\n",
       "      <td>290.00</td>\n",
       "      <td>49.50</td>\n",
       "    </tr>\n",
       "    <tr>\n",
       "      <th>trips_pool</th>\n",
       "      <td>1478.00</td>\n",
       "      <td>1618.50</td>\n",
       "      <td>140.50</td>\n",
       "    </tr>\n",
       "    <tr>\n",
       "      <th>trips_express</th>\n",
       "      <td>3434.50</td>\n",
       "      <td>3280.50</td>\n",
       "      <td>-154.00</td>\n",
       "    </tr>\n",
       "    <tr>\n",
       "      <th>total_ride</th>\n",
       "      <td>4859.50</td>\n",
       "      <td>4694.00</td>\n",
       "      <td>-165.50</td>\n",
       "    </tr>\n",
       "    <tr>\n",
       "      <th>cost_per_ride</th>\n",
       "      <td>7.99</td>\n",
       "      <td>7.65</td>\n",
       "      <td>-0.34</td>\n",
       "    </tr>\n",
       "    <tr>\n",
       "      <th>match_rate</th>\n",
       "      <td>0.76</td>\n",
       "      <td>0.75</td>\n",
       "      <td>-0.01</td>\n",
       "    </tr>\n",
       "    <tr>\n",
       "      <th>double_matches_rate</th>\n",
       "      <td>0.35</td>\n",
       "      <td>0.36</td>\n",
       "      <td>0.01</td>\n",
       "    </tr>\n",
       "  </tbody>\n",
       "</table>\n",
       "</div>"
      ],
      "text/plain": [
       "wait_time             2 mins   5 mins  diff (5mins - 2mins)\n",
       "rider_cancellations   240.50   290.00                 49.50\n",
       "trips_pool           1478.00  1618.50                140.50\n",
       "trips_express        3434.50  3280.50               -154.00\n",
       "total_ride           4859.50  4694.00               -165.50\n",
       "cost_per_ride           7.99     7.65                 -0.34\n",
       "match_rate              0.76     0.75                 -0.01\n",
       "double_matches_rate     0.35     0.36                  0.01"
      ]
     },
     "execution_count": 13,
     "metadata": {},
     "output_type": "execute_result"
    }
   ],
   "source": [
    "summary = df_commute.groupby(['wait_time'])['rider_cancellations','trips_pool','trips_express','total_ride','cost_per_ride','match_rate','double_matches_rate'].agg('median').T\n",
    "summary['diff (5mins - 2mins)'] = summary['5 mins'] - summary['2 mins']\n",
    "summary.round(2)"
   ]
  },
  {
   "cell_type": "markdown",
   "id": "9b20d58f",
   "metadata": {},
   "source": [
    "### Average Ride Cancellation"
   ]
  },
  {
   "cell_type": "code",
   "execution_count": 16,
   "id": "0c43bb4b",
   "metadata": {},
   "outputs": [
    {
     "name": "stdout",
     "output_type": "stream",
     "text": [
      "Statistics = 13.000, P-value=0.003\n"
     ]
    }
   ],
   "source": [
    "statistic,p_value =  stats.mannwhitneyu(df_commute[df_commute['wait_time']=='2 mins']['rider_cancellations'], df_commute[df_commute['wait_time']=='5 mins']['rider_cancellations'], alternative='less')\n",
    "print('Statistics = %.3f, P-value=%.3f' %(statistic,p_value))"
   ]
  },
  {
   "cell_type": "markdown",
   "id": "88e21a21",
   "metadata": {},
   "source": [
    "### Cost per trip"
   ]
  },
  {
   "cell_type": "code",
   "execution_count": 17,
   "id": "5f7fa7f2",
   "metadata": {},
   "outputs": [
    {
     "name": "stdout",
     "output_type": "stream",
     "text": [
      "Statistics = 65.000, P-value=0.137\n"
     ]
    }
   ],
   "source": [
    "statistic,p_value =  stats.mannwhitneyu(df_commute[df_commute['wait_time']=='2 mins']['cost_per_ride'], df_commute[df_commute['wait_time']=='5 mins']['cost_per_ride'], alternative='greater')\n",
    "print('Statistics = %.3f, P-value=%.3f' %(statistic,p_value))"
   ]
  },
  {
   "cell_type": "markdown",
   "id": "d50284f9",
   "metadata": {},
   "source": [
    "### Average Express pool "
   ]
  },
  {
   "cell_type": "code",
   "execution_count": 18,
   "id": "14c71dd8",
   "metadata": {},
   "outputs": [
    {
     "name": "stdout",
     "output_type": "stream",
     "text": [
      "Statistics = 68.000, P-value=0.093\n"
     ]
    }
   ],
   "source": [
    "statistic,p_value =  stats.mannwhitneyu(df_commute[df_commute['wait_time']=='2 mins']['trips_express'], df_commute[df_commute['wait_time']=='5 mins']['trips_express'], alternative='greater')\n",
    "print('Statistics = %.3f, P-value=%.3f' %(statistic,p_value))"
   ]
  },
  {
   "cell_type": "markdown",
   "id": "65d0271c",
   "metadata": {},
   "source": [
    "# Non-Commute Hours"
   ]
  },
  {
   "cell_type": "code",
   "execution_count": 24,
   "id": "227efa9e",
   "metadata": {},
   "outputs": [],
   "source": [
    "df_non_commute = df_raw[df_raw['commute']==False]"
   ]
  },
  {
   "cell_type": "code",
   "execution_count": 20,
   "id": "475e2574",
   "metadata": {},
   "outputs": [
    {
     "data": {
      "text/html": [
       "<div>\n",
       "<style scoped>\n",
       "    .dataframe tbody tr th:only-of-type {\n",
       "        vertical-align: middle;\n",
       "    }\n",
       "\n",
       "    .dataframe tbody tr th {\n",
       "        vertical-align: top;\n",
       "    }\n",
       "\n",
       "    .dataframe thead th {\n",
       "        text-align: right;\n",
       "    }\n",
       "</style>\n",
       "<table border=\"1\" class=\"dataframe\">\n",
       "  <thead>\n",
       "    <tr style=\"text-align: right;\">\n",
       "      <th>wait_time</th>\n",
       "      <th>2 mins</th>\n",
       "      <th>5 mins</th>\n",
       "      <th>diff (5mins - 2mins)</th>\n",
       "    </tr>\n",
       "  </thead>\n",
       "  <tbody>\n",
       "    <tr>\n",
       "      <th>rider_cancellations</th>\n",
       "      <td>156.00</td>\n",
       "      <td>170.00</td>\n",
       "      <td>14.00</td>\n",
       "    </tr>\n",
       "    <tr>\n",
       "      <th>trips_pool</th>\n",
       "      <td>1302.00</td>\n",
       "      <td>1425.00</td>\n",
       "      <td>123.00</td>\n",
       "    </tr>\n",
       "    <tr>\n",
       "      <th>trips_express</th>\n",
       "      <td>2453.00</td>\n",
       "      <td>2276.00</td>\n",
       "      <td>-177.00</td>\n",
       "    </tr>\n",
       "    <tr>\n",
       "      <th>total_ride</th>\n",
       "      <td>3729.00</td>\n",
       "      <td>3709.00</td>\n",
       "      <td>-20.00</td>\n",
       "    </tr>\n",
       "    <tr>\n",
       "      <th>cost_per_ride</th>\n",
       "      <td>7.23</td>\n",
       "      <td>6.88</td>\n",
       "      <td>-0.34</td>\n",
       "    </tr>\n",
       "    <tr>\n",
       "      <th>match_rate</th>\n",
       "      <td>0.64</td>\n",
       "      <td>0.62</td>\n",
       "      <td>-0.03</td>\n",
       "    </tr>\n",
       "    <tr>\n",
       "      <th>double_matches_rate</th>\n",
       "      <td>0.31</td>\n",
       "      <td>0.34</td>\n",
       "      <td>0.02</td>\n",
       "    </tr>\n",
       "  </tbody>\n",
       "</table>\n",
       "</div>"
      ],
      "text/plain": [
       "wait_time             2 mins   5 mins  diff (5mins - 2mins)\n",
       "rider_cancellations   156.00   170.00                 14.00\n",
       "trips_pool           1302.00  1425.00                123.00\n",
       "trips_express        2453.00  2276.00               -177.00\n",
       "total_ride           3729.00  3709.00                -20.00\n",
       "cost_per_ride           7.23     6.88                 -0.34\n",
       "match_rate              0.64     0.62                 -0.03\n",
       "double_matches_rate     0.31     0.34                  0.02"
      ]
     },
     "execution_count": 20,
     "metadata": {},
     "output_type": "execute_result"
    }
   ],
   "source": [
    "summary = df_raw[df_raw['commute']==False].groupby(['wait_time'])['rider_cancellations','trips_pool','trips_express','total_ride','cost_per_ride','match_rate','double_matches_rate'].agg('median').T\n",
    "summary['diff (5mins - 2mins)'] = summary['5 mins'] - summary['2 mins']\n",
    "summary.round(2)"
   ]
  },
  {
   "cell_type": "markdown",
   "id": "4500e2d1",
   "metadata": {},
   "source": [
    "### Average Ride Cancellation"
   ]
  },
  {
   "cell_type": "code",
   "execution_count": 26,
   "id": "2c85b91b",
   "metadata": {},
   "outputs": [
    {
     "name": "stdout",
     "output_type": "stream",
     "text": [
      "Statistics = 841.500, P-value=0.000\n"
     ]
    }
   ],
   "source": [
    "statistic,p_value =  stats.mannwhitneyu(df_non_commute[df_non_commute['wait_time']=='2 mins']['rider_cancellations'], df_non_commute[df_non_commute['wait_time']=='5 mins']['rider_cancellations'], alternative='less')\n",
    "print('Statistics = %.3f, P-value=%.3f' %(statistic,p_value))"
   ]
  },
  {
   "cell_type": "markdown",
   "id": "2fd29bc2",
   "metadata": {},
   "source": [
    "### Cost per trip"
   ]
  },
  {
   "cell_type": "code",
   "execution_count": 27,
   "id": "6dc3787c",
   "metadata": {},
   "outputs": [
    {
     "name": "stdout",
     "output_type": "stream",
     "text": [
      "Statistics = 1935.000, P-value=0.000\n"
     ]
    }
   ],
   "source": [
    "statistic,p_value =  stats.mannwhitneyu(df_non_commute[df_non_commute['wait_time']=='2 mins']['cost_per_ride'], df_non_commute[df_non_commute['wait_time']=='5 mins']['cost_per_ride'], alternative='greater')\n",
    "print('Statistics = %.3f, P-value=%.3f' %(statistic,p_value))"
   ]
  },
  {
   "cell_type": "markdown",
   "id": "dbfa0613",
   "metadata": {},
   "source": [
    "### Average Express pool "
   ]
  },
  {
   "cell_type": "code",
   "execution_count": 28,
   "id": "1fd1cf87",
   "metadata": {},
   "outputs": [
    {
     "name": "stdout",
     "output_type": "stream",
     "text": [
      "Statistics = 1838.500, P-value=0.003\n"
     ]
    }
   ],
   "source": [
    "statistic,p_value =  stats.mannwhitneyu(df_non_commute[df_non_commute['wait_time']=='2 mins']['trips_express'], df_non_commute[df_non_commute['wait_time']=='5 mins']['trips_express'], alternative='greater')\n",
    "print('Statistics = %.3f, P-value=%.3f' %(statistic,p_value))"
   ]
  }
 ],
 "metadata": {
  "kernelspec": {
   "display_name": "Python 3 (ipykernel)",
   "language": "python",
   "name": "python3"
  },
  "language_info": {
   "codemirror_mode": {
    "name": "ipython",
    "version": 3
   },
   "file_extension": ".py",
   "mimetype": "text/x-python",
   "name": "python",
   "nbconvert_exporter": "python",
   "pygments_lexer": "ipython3",
   "version": "3.9.12"
  }
 },
 "nbformat": 4,
 "nbformat_minor": 5
}
