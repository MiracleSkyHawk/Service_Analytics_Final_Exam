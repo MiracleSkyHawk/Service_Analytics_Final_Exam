{
 "cells": [
  {
   "cell_type": "code",
   "execution_count": 1,
   "id": "d4a95595",
   "metadata": {},
   "outputs": [],
   "source": [
    "#!pip install pulp\n",
    "\n",
    "from pulp import *\n"
   ]
  },
  {
   "cell_type": "markdown",
   "id": "881c1c69",
   "metadata": {},
   "source": [
    "# Solving one Branch"
   ]
  },
  {
   "cell_type": "markdown",
   "id": "d4bf9808",
   "metadata": {},
   "source": [
    "### 1. Defininig Model Name"
   ]
  },
  {
   "cell_type": "code",
   "execution_count": 2,
   "id": "9c9741f9",
   "metadata": {},
   "outputs": [
    {
     "name": "stderr",
     "output_type": "stream",
     "text": [
      "C:\\Users\\Vahid\\anaconda3\\lib\\site-packages\\pulp\\pulp.py:1352: UserWarning: Spaces are not permitted in the name. Converted to '_'\n",
      "  warnings.warn(\"Spaces are not permitted in the name. Converted to '_'\")\n"
     ]
    }
   ],
   "source": [
    "prob = LpProblem(\"Branch Resource Utilization Probelm Problem\", LpMaximize)"
   ]
  },
  {
   "cell_type": "markdown",
   "id": "fac798d1",
   "metadata": {},
   "source": [
    "### 2. Defining Decision Variables"
   ]
  },
  {
   "cell_type": "code",
   "execution_count": 3,
   "id": "53e4ca3f",
   "metadata": {},
   "outputs": [],
   "source": [
    "x1 = LpVariable(\"input1\",lowBound=0.0001, upBound=None, cat = 'Continuous')\n",
    "x2 = LpVariable(\"input2\",lowBound=0.0001, upBound=None, cat = 'Continuous')\n",
    "x3 = LpVariable(\"output\",lowBound=0.0001, upBound=None, cat = 'Continuous')\n"
   ]
  },
  {
   "cell_type": "markdown",
   "id": "749bd4dc",
   "metadata": {},
   "source": [
    "### 3. Adding Objective Function"
   ]
  },
  {
   "cell_type": "code",
   "execution_count": 4,
   "id": "04ab6d62",
   "metadata": {},
   "outputs": [],
   "source": [
    "prob += 1000 * x3, \"Utilization of Branch 1\""
   ]
  },
  {
   "cell_type": "markdown",
   "id": "ef944c2c",
   "metadata": {},
   "source": [
    "### 4. Adding Constarints "
   ]
  },
  {
   "cell_type": "code",
   "execution_count": 5,
   "id": "d84c1b76",
   "metadata": {},
   "outputs": [],
   "source": [
    "prob += 1000*x3 - 20*x1 - 300*x2 <=0 , \"B1\"\n",
    "prob += 1000*x3 - 30*x1 - 200*x2 <=0 , \"B2\"\n",
    "prob += 1000*x3 - 40*x1 - 100*x2 <=0 , \"B3\"\n",
    "prob += 1000*x3 - 20*x1 - 200*x2 <=0 , \"B4\"\n",
    "prob += 1000*x3 - 10*x1 - 400*x2 <=0 , \"B5\"\n",
    "\n",
    "\n",
    "\n",
    "prob += 20 * x1 + 300 * x2   == 1, \"Normalization\"\n"
   ]
  },
  {
   "cell_type": "markdown",
   "id": "067b5de4",
   "metadata": {},
   "source": [
    "### 5. Create LP Problem"
   ]
  },
  {
   "cell_type": "code",
   "execution_count": 6,
   "id": "0952f5de",
   "metadata": {},
   "outputs": [
    {
     "data": {
      "text/plain": [
       "[input1, input2, output]"
      ]
     },
     "execution_count": 6,
     "metadata": {},
     "output_type": "execute_result"
    }
   ],
   "source": [
    "prob.writeLP(\"DEA_Branch_Model.lp\")"
   ]
  },
  {
   "cell_type": "markdown",
   "id": "731dc6c2",
   "metadata": {},
   "source": [
    "### 6. Solve Problem"
   ]
  },
  {
   "cell_type": "code",
   "execution_count": 7,
   "id": "ea8d6870",
   "metadata": {},
   "outputs": [
    {
     "data": {
      "text/plain": [
       "1"
      ]
     },
     "execution_count": 7,
     "metadata": {},
     "output_type": "execute_result"
    }
   ],
   "source": [
    "prob.solve()"
   ]
  },
  {
   "cell_type": "markdown",
   "id": "169c2323",
   "metadata": {},
   "source": [
    "### 7. Optimal Solution"
   ]
  },
  {
   "cell_type": "code",
   "execution_count": 8,
   "id": "6a545871",
   "metadata": {},
   "outputs": [
    {
     "name": "stdout",
     "output_type": "stream",
     "text": [
      "input1 = 0.028571429\n",
      "input2 = 0.0014285714\n",
      "output = 0.00085714286\n",
      "Optimal Utilization of Branch =  0.85714286\n"
     ]
    }
   ],
   "source": [
    "for v in prob.variables():\n",
    "    print(v.name, \"=\", v.varValue)\n",
    "    \n",
    "    \n",
    "print(\"Optimal Utilization of Branch = \", value(prob.objective))    "
   ]
  },
  {
   "cell_type": "markdown",
   "id": "0dfec032",
   "metadata": {},
   "source": [
    "### 8. Dual Prices and Slack of Surplus"
   ]
  },
  {
   "cell_type": "code",
   "execution_count": 9,
   "id": "b855b497",
   "metadata": {},
   "outputs": [
    {
     "name": "stdout",
     "output_type": "stream",
     "text": [
      "B1 : -20*input1 - 300*input2 + 1000*output <= 0 \t Dual: -0.0 \t Slack: 0.14285714\n",
      "B2 : -30*input1 - 200*input2 + 1000*output <= 0 \t Dual: -0.0 \t Slack: 0.28571429\n",
      "B3 : -40*input1 - 100*input2 + 1000*output <= 0 \t Dual: -0.0 \t Slack: 0.42857143\n",
      "B4 : -20*input1 - 200*input2 + 1000*output <= 0 \t Dual: 0.71428571 \t Slack: -0.0\n",
      "B5 : -10*input1 - 400*input2 + 1000*output <= 0 \t Dual: 0.28571429 \t Slack: -0.0\n",
      "Normalization : 20*input1 + 300*input2 = 1 \t Dual: 0.85714286 \t Slack: -0.0\n"
     ]
    }
   ],
   "source": [
    "for name, c in list(prob.constraints.items()):\n",
    "    print(name, \":\", c, \"\\t Dual:\", c.pi, \"\\t Slack:\", c.slack)"
   ]
  },
  {
   "cell_type": "markdown",
   "id": "470e5597",
   "metadata": {},
   "source": [
    "# Solving All Branches Together "
   ]
  },
  {
   "cell_type": "code",
   "execution_count": 16,
   "id": "b56c027b",
   "metadata": {},
   "outputs": [
    {
     "name": "stdout",
     "output_type": "stream",
     "text": [
      "_____________________LP- Branch: B1_____________________\n",
      "Branch_Utilization_Probelm_Problem:\n",
      "MAXIMIZE\n",
      "1000*O_x3 + 0\n",
      "SUBJECT TO\n",
      "B1: - 20 I_x1 - 300 I_x2 + 1000 O_x3 <= 0\n",
      "\n",
      "B2: - 30 I_x1 - 200 I_x2 + 1000 O_x3 <= 0\n",
      "\n",
      "B3: - 40 I_x1 - 100 I_x2 + 1000 O_x3 <= 0\n",
      "\n",
      "B4: - 20 I_x1 - 200 I_x2 + 1000 O_x3 <= 0\n",
      "\n",
      "B5: - 10 I_x1 - 400 I_x2 + 1000 O_x3 <= 0\n",
      "\n",
      "B6: - 1000 I_x1 - 1000 I_x2 + 1000 O_x3 <= 0\n",
      "\n",
      "Norm: 20 I_x1 + 300 I_x2 = 1\n",
      "\n",
      "VARIABLES\n",
      "I_x1 Continuous\n",
      "I_x2 Continuous\n",
      "O_x3 Continuous\n",
      "\n",
      "______________________Solution_________________________\n",
      "I_x1 = 0.028571429\n",
      "I_x2 = 0.0014285714\n",
      "O_x3 = 0.00085714286\n",
      "Optimal Utilization of Branch B1 =  0.85714286\n",
      "__________________________ Dual Variables _______________\n",
      "B1 : \t Dual: -0.0\n",
      "B2 : \t Dual: -0.0\n",
      "B3 : \t Dual: -0.0\n",
      "B4 : \t Dual: 0.71428571\n",
      "B5 : \t Dual: 0.28571429\n",
      "B6 : \t Dual: -0.0\n",
      "Norm : \t Dual: 0.85714286\n",
      "_____________________LP- Branch: B2_____________________\n",
      "Branch_Utilization_Probelm_Problem:\n",
      "MAXIMIZE\n",
      "1000*O_x3 + 0\n",
      "SUBJECT TO\n",
      "B1: - 20 I_x1 - 300 I_x2 + 1000 O_x3 <= 0\n",
      "\n",
      "B2: - 30 I_x1 - 200 I_x2 + 1000 O_x3 <= 0\n",
      "\n",
      "B3: - 40 I_x1 - 100 I_x2 + 1000 O_x3 <= 0\n",
      "\n",
      "B4: - 20 I_x1 - 200 I_x2 + 1000 O_x3 <= 0\n",
      "\n",
      "B5: - 10 I_x1 - 400 I_x2 + 1000 O_x3 <= 0\n",
      "\n",
      "B6: - 1000 I_x1 - 1000 I_x2 + 1000 O_x3 <= 0\n",
      "\n",
      "Norm: 30 I_x1 + 200 I_x2 = 1\n",
      "\n",
      "VARIABLES\n",
      "I_x1 Continuous\n",
      "I_x2 Continuous\n",
      "O_x3 Continuous\n",
      "\n",
      "______________________Solution_________________________\n",
      "I_x1 = 0.014285714\n",
      "I_x2 = 0.0028571429\n",
      "O_x3 = 0.00085714286\n",
      "Optimal Utilization of Branch B2 =  0.85714286\n",
      "__________________________ Dual Variables _______________\n",
      "B1 : \t Dual: -0.0\n",
      "B2 : \t Dual: -0.0\n",
      "B3 : \t Dual: 0.28571429\n",
      "B4 : \t Dual: 0.71428571\n",
      "B5 : \t Dual: -0.0\n",
      "B6 : \t Dual: -0.0\n",
      "Norm : \t Dual: 0.85714286\n",
      "_____________________LP- Branch: B3_____________________\n",
      "Branch_Utilization_Probelm_Problem:\n",
      "MAXIMIZE\n",
      "1000*O_x3 + 0\n",
      "SUBJECT TO\n",
      "B1: - 20 I_x1 - 300 I_x2 + 1000 O_x3 <= 0\n",
      "\n",
      "B2: - 30 I_x1 - 200 I_x2 + 1000 O_x3 <= 0\n",
      "\n",
      "B3: - 40 I_x1 - 100 I_x2 + 1000 O_x3 <= 0\n",
      "\n",
      "B4: - 20 I_x1 - 200 I_x2 + 1000 O_x3 <= 0\n",
      "\n",
      "B5: - 10 I_x1 - 400 I_x2 + 1000 O_x3 <= 0\n",
      "\n",
      "B6: - 1000 I_x1 - 1000 I_x2 + 1000 O_x3 <= 0\n",
      "\n",
      "Norm: 40 I_x1 + 100 I_x2 = 1\n",
      "\n",
      "VARIABLES\n",
      "I_x1 Continuous\n",
      "I_x2 Continuous\n",
      "O_x3 Continuous\n",
      "\n",
      "______________________Solution_________________________\n",
      "I_x1 = 0.0\n",
      "I_x2 = 0.01\n",
      "O_x3 = 0.001\n",
      "Optimal Utilization of Branch B3 =  1.0\n",
      "__________________________ Dual Variables _______________\n",
      "B1 : \t Dual: -0.0\n",
      "B2 : \t Dual: -0.0\n",
      "B3 : \t Dual: 1.0\n",
      "B4 : \t Dual: -0.0\n",
      "B5 : \t Dual: -0.0\n",
      "B6 : \t Dual: -0.0\n",
      "Norm : \t Dual: 1.0\n",
      "_____________________LP- Branch: B4_____________________\n",
      "Branch_Utilization_Probelm_Problem:\n",
      "MAXIMIZE\n",
      "1000*O_x3 + 0\n",
      "SUBJECT TO\n",
      "B1: - 20 I_x1 - 300 I_x2 + 1000 O_x3 <= 0\n",
      "\n",
      "B2: - 30 I_x1 - 200 I_x2 + 1000 O_x3 <= 0\n",
      "\n",
      "B3: - 40 I_x1 - 100 I_x2 + 1000 O_x3 <= 0\n",
      "\n",
      "B4: - 20 I_x1 - 200 I_x2 + 1000 O_x3 <= 0\n",
      "\n",
      "B5: - 10 I_x1 - 400 I_x2 + 1000 O_x3 <= 0\n",
      "\n",
      "B6: - 1000 I_x1 - 1000 I_x2 + 1000 O_x3 <= 0\n",
      "\n",
      "Norm: 20 I_x1 + 200 I_x2 = 1\n",
      "\n",
      "VARIABLES\n",
      "I_x1 Continuous\n",
      "I_x2 Continuous\n",
      "O_x3 Continuous\n",
      "\n",
      "______________________Solution_________________________\n",
      "I_x1 = 0.016666667\n",
      "I_x2 = 0.0033333333\n",
      "O_x3 = 0.001\n",
      "Optimal Utilization of Branch B4 =  1.0\n",
      "__________________________ Dual Variables _______________\n",
      "B1 : \t Dual: -0.0\n",
      "B2 : \t Dual: -0.0\n",
      "B3 : \t Dual: -0.0\n",
      "B4 : \t Dual: 1.0\n",
      "B5 : \t Dual: -0.0\n",
      "B6 : \t Dual: -0.0\n",
      "Norm : \t Dual: 1.0\n",
      "_____________________LP- Branch: B5_____________________\n",
      "Branch_Utilization_Probelm_Problem:\n",
      "MAXIMIZE\n",
      "1000*O_x3 + 0\n",
      "SUBJECT TO\n",
      "B1: - 20 I_x1 - 300 I_x2 + 1000 O_x3 <= 0\n",
      "\n",
      "B2: - 30 I_x1 - 200 I_x2 + 1000 O_x3 <= 0\n",
      "\n",
      "B3: - 40 I_x1 - 100 I_x2 + 1000 O_x3 <= 0\n",
      "\n",
      "B4: - 20 I_x1 - 200 I_x2 + 1000 O_x3 <= 0\n",
      "\n",
      "B5: - 10 I_x1 - 400 I_x2 + 1000 O_x3 <= 0\n",
      "\n",
      "B6: - 1000 I_x1 - 1000 I_x2 + 1000 O_x3 <= 0\n",
      "\n",
      "Norm: 10 I_x1 + 400 I_x2 = 1\n",
      "\n",
      "VARIABLES\n",
      "I_x1 Continuous\n",
      "I_x2 Continuous\n",
      "O_x3 Continuous\n",
      "\n",
      "______________________Solution_________________________\n",
      "I_x1 = 0.1\n",
      "I_x2 = 0.0\n",
      "O_x3 = 0.001\n",
      "Optimal Utilization of Branch B5 =  1.0\n",
      "__________________________ Dual Variables _______________\n",
      "B1 : \t Dual: -0.0\n",
      "B2 : \t Dual: -0.0\n",
      "B3 : \t Dual: -0.0\n",
      "B4 : \t Dual: -0.0\n",
      "B5 : \t Dual: 1.0\n",
      "B6 : \t Dual: -0.0\n",
      "Norm : \t Dual: 1.0\n",
      "_____________________LP- Branch: B6_____________________\n",
      "Branch_Utilization_Probelm_Problem:\n",
      "MAXIMIZE\n",
      "1000*O_x3 + 0\n",
      "SUBJECT TO\n",
      "B1: - 20 I_x1 - 300 I_x2 + 1000 O_x3 <= 0\n",
      "\n",
      "B2: - 30 I_x1 - 200 I_x2 + 1000 O_x3 <= 0\n",
      "\n",
      "B3: - 40 I_x1 - 100 I_x2 + 1000 O_x3 <= 0\n",
      "\n",
      "B4: - 20 I_x1 - 200 I_x2 + 1000 O_x3 <= 0\n",
      "\n",
      "B5: - 10 I_x1 - 400 I_x2 + 1000 O_x3 <= 0\n",
      "\n",
      "B6: - 1000 I_x1 - 1000 I_x2 + 1000 O_x3 <= 0\n",
      "\n",
      "Norm: 1000 I_x1 + 1000 I_x2 = 1\n",
      "\n",
      "VARIABLES\n",
      "I_x1 Continuous\n",
      "I_x2 Continuous\n",
      "O_x3 Continuous\n",
      "\n",
      "______________________Solution_________________________\n",
      "I_x1 = 0.0\n",
      "I_x2 = 0.001\n",
      "O_x3 = 0.0001\n",
      "Optimal Utilization of Branch B6 =  0.1\n",
      "__________________________ Dual Variables _______________\n",
      "B1 : \t Dual: -0.0\n",
      "B2 : \t Dual: -0.0\n",
      "B3 : \t Dual: 1.0\n",
      "B4 : \t Dual: -0.0\n",
      "B5 : \t Dual: -0.0\n",
      "B6 : \t Dual: -0.0\n",
      "Norm : \t Dual: 0.1\n"
     ]
    }
   ],
   "source": [
    "from pulp import *\n",
    "\n",
    "performance=dict()\n",
    "\n",
    "# decision variables\n",
    "output_Ingredients=['x3']\n",
    "input_Ingredients=['x1','x2']\n",
    "\n",
    "\n",
    "output_vars = LpVariable.dicts(\"O\", output_Ingredients, 0)\n",
    "input_vars = LpVariable.dicts(\"I\", input_Ingredients, 0)\n",
    "inputs = {\n",
    "        'B1': {'x1': 20, 'x2': 300 , 'x3': 1000},\n",
    "        'B2': {'x1': 30, 'x2': 200 , 'x3': 1000},\n",
    "        'B3': {'x1': 40, 'x2': 100, 'x3': 1000},\n",
    "        'B4': {'x1': 20, 'x2': 200, 'x3': 1000},\n",
    "        'B5': {'x1': 10, 'x2': 400, 'x3': 1000},\n",
    "\n",
    "    }\n",
    "\n",
    "for host in ('B1','B2','B3','B4','B5'):\n",
    "    prob = LpProblem(\"Branch Utilization Probelm Problem\", LpMaximize)\n",
    "\n",
    "    #Objective \n",
    "    prob += (\n",
    "        lpSum([inputs[host][i] * output_vars[i] for i in output_Ingredients]),\n",
    "        \"Utilization of Branch 1\",\n",
    "    )\n",
    "\n",
    "\n",
    "    for h in ('B1','B2','B3','B4','B5'):\n",
    "        prob += (\n",
    "            lpSum([inputs[h][i] * output_vars[i] for i in output_Ingredients]+[-inputs[h][i] * input_vars[i] for i in input_Ingredients ]) <= 0,\n",
    "            \"{}\".format(h)\n",
    "        )\n",
    "\n",
    "    #Constraints\n",
    "    prob += lpSum([inputs[host][i] * input_vars[i] for i in input_Ingredients]) == 1, \"Norm\"        \n",
    "\n",
    "    print(\"_____________________LP- Branch: {}_____________________\".format(host))  \n",
    "    print(prob)    \n",
    "\n",
    "    prob.writeLP(\"DEA_Branch.{}_Model.lp\".format(h))\n",
    "\n",
    "\n",
    "    print(\"______________________Solution_________________________\")\n",
    "\n",
    "    prob.solve()\n",
    "    #print(\"Status:\", LpStatus[prob.status])\n",
    "\n",
    "\n",
    "    for v in prob.variables():\n",
    "        print(v.name, \"=\", v.varValue)\n",
    "\n",
    "\n",
    "\n",
    "    print(\"Optimal Utilization of Branch {} = \".format(host), value(prob.objective))\n",
    "\n",
    "    print(\"__________________________ Dual Variables _______________\")\n",
    "\n",
    "    for name, c in list(prob.constraints.items()):\n",
    "        print(name, \":\", \"\\t Dual:\", c.pi  )\n",
    "        \n",
    "    performance[host]= value(prob.objective) \n"
   ]
  },
  {
   "cell_type": "code",
   "execution_count": 15,
   "id": "11b14c69",
   "metadata": {},
   "outputs": [
    {
     "name": "stdout",
     "output_type": "stream",
     "text": [
      "____________________________________________\n",
      "The efficient DMUs are:\n",
      "The performance value of DMU B3 is: 1.0\n",
      "The performance value of DMU B4 is: 1.0\n",
      "The performance value of DMU B5 is: 1.0\n",
      "The performance value of DMU B6 is: 1.0\n",
      "____________________________________________\n",
      "The inefficient DMUs are:\n",
      "The performance value of DMU B1 is: 0.85714\n",
      "The performance value of DMU B2 is: 0.85714\n"
     ]
    }
   ],
   "source": [
    "# Sorting garages in descending efficiency number\n",
    "sorted_performance = {k: v for k, v in sorted(performance.items(), key=lambda item: item[1], reverse = True)}\n",
    "\n",
    "efficient = []\n",
    "inefficient = []\n",
    "\n",
    "for h in sorted_performance.keys():\n",
    "    if sorted_performance[h] >= 0.9999999:\n",
    "        efficient.append(h) \n",
    "    if sorted_performance[h] < 0.9999999:\n",
    "        inefficient.append(h) \n",
    "        \n",
    "print('____________________________________________')\n",
    "print(f\"The efficient DMUs are:\")\n",
    "for eff in efficient:\n",
    "    print(f\"The performance value of DMU {eff} is: {round(performance[eff],4)}\") \n",
    "    \n",
    "print('____________________________________________')\n",
    "print(f\"The inefficient DMUs are:\")\n",
    "for ine in inefficient:\n",
    "    print(f\"The performance value of DMU {ine} is: {round(performance[ine],5)}\") "
   ]
  }
 ],
 "metadata": {
  "kernelspec": {
   "display_name": "Python 3 (ipykernel)",
   "language": "python",
   "name": "python3"
  },
  "language_info": {
   "codemirror_mode": {
    "name": "ipython",
    "version": 3
   },
   "file_extension": ".py",
   "mimetype": "text/x-python",
   "name": "python",
   "nbconvert_exporter": "python",
   "pygments_lexer": "ipython3",
   "version": "3.9.12"
  }
 },
 "nbformat": 4,
 "nbformat_minor": 5
}
